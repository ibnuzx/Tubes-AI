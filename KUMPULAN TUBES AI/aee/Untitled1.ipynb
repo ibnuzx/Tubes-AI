{
 "cells": [
  {
   "cell_type": "code",
   "execution_count": null,
   "metadata": {},
   "outputs": [],
   "source": [
    "#import libray yg dibutuhkan\n",
    "import pandas as pd\n",
    "from sklearn.preprocessing import OneHotEncoder\n",
    "import numpy as np\n",
    "import random as rd"
   ]
  },
  {
   "cell_type": "code",
   "execution_count": null,
   "metadata": {},
   "outputs": [],
   "source": [
    "#import data ke sini dulu\n",
    "data = pd.read_csv(\"datatrain.csv\")\n",
    "data.head()"
   ]
  },
  {
   "cell_type": "code",
   "execution_count": null,
   "metadata": {},
   "outputs": [],
   "source": [
    "#ubah data jadi biner\n",
    "enc = OneHotEncoder(sparse=False)\n",
    "datrain = enc.fit_transform(data).astype(int)\n",
    "datrain = np.delete(datrain,14,1)\n",
    "pd.DataFrame(datrain)"
   ]
  },
  {
   "cell_type": "code",
   "execution_count": 93,
   "metadata": {},
   "outputs": [],
   "source": [
    "# generate populasi dulu dri data latih (train)\n",
    "def generate_chromosome(n_population):\n",
    "    population = []\n",
    "    for i in range (n_population):\n",
    "        n_kromsom = rd.randint(1,10)*15\n",
    "        kromsom = rd.choices([0,1],k=n_kromsom) #1 gen\n",
    "        population.append(np.array(kromsom))\n",
    "    return population"
   ]
  },
  {
   "cell_type": "code",
   "execution_count": 84,
   "metadata": {},
   "outputs": [
    {
     "data": {
      "text/plain": [
       "[array([1, 0, 0, 0, 1, 0, 1, 1, 0, 0, 1, 1, 1, 0, 0]),\n",
       " array([0, 1, 1, 0, 1, 1, 1, 0, 0, 0, 1, 1, 0, 1, 0]),\n",
       " array([0, 1, 0, 0, 1, 0, 1, 1, 1, 0, 0, 1, 1, 1, 1, 1, 0, 0, 0, 1, 1, 0,\n",
       "        1, 0, 1, 1, 1, 0, 1, 1, 1, 0, 1, 0, 1, 0, 0, 0, 0, 1, 0, 1, 0, 0,\n",
       "        0, 1, 1, 0, 0, 1, 0, 1, 0, 0, 0, 0, 0, 0, 0, 0, 1, 1, 0, 0, 0, 1,\n",
       "        1, 0, 1, 1, 1, 0, 0, 1, 0]),\n",
       " array([0, 1, 0, 0, 1, 0, 0, 1, 1, 0, 0, 1, 1, 0, 0, 1, 1, 0, 0, 0, 1, 1,\n",
       "        0, 1, 1, 0, 1, 0, 0, 1, 0, 0, 1, 1, 0, 0, 0, 0, 1, 0, 0, 1, 0, 1,\n",
       "        0, 1, 0, 0, 0, 1, 0, 0, 1, 1, 0, 1, 1, 1, 0, 1, 1, 1, 0, 1, 0, 1,\n",
       "        1, 0, 0, 0, 0, 1, 1, 1, 0, 1, 0, 1, 0, 1, 1, 1, 1, 0, 0, 1, 0, 0,\n",
       "        0, 0, 0, 1, 1, 1, 1, 0, 1, 0, 1, 0, 0, 0, 1, 0, 1, 1, 1, 1, 0, 1,\n",
       "        1, 0, 1, 1, 1, 0, 1, 0, 0, 1]),\n",
       " array([1, 1, 1, 1, 1, 0, 0, 0, 0, 0, 0, 1, 0, 0, 1, 1, 1, 0, 1, 0, 0, 0,\n",
       "        0, 1, 0, 1, 0, 1, 0, 1, 1, 0, 1, 0, 1, 1, 1, 0, 0, 1, 0, 0, 0, 0,\n",
       "        1, 0, 1, 0, 0, 1, 1, 0, 0, 0, 1, 0, 1, 1, 0, 1, 1, 0, 1, 0, 1, 0,\n",
       "        1, 1, 1, 0, 1, 0, 1, 1, 1, 0, 1, 0, 1, 1, 1, 0, 1, 1, 1, 1, 0, 0,\n",
       "        1, 1, 0, 0, 1, 0, 1, 1, 1, 0, 1, 0, 1, 0, 0, 1, 1, 1, 0, 0, 1, 0,\n",
       "        0, 0, 1, 1, 1, 0, 1, 1, 1, 0]),\n",
       " array([0, 0, 0, 1, 1, 1, 1, 1, 0, 0, 1, 0, 1, 1, 1, 0, 1, 1, 1, 1, 0, 0,\n",
       "        1, 1, 1, 1, 0, 1, 0, 0, 0, 0, 1, 1, 1, 0, 0, 0, 0, 0, 1, 0, 1, 0,\n",
       "        0, 1, 0, 1, 1, 1, 1, 1, 0, 1, 0, 1, 0, 1, 1, 1, 0, 1, 0, 0, 1, 1,\n",
       "        0, 0, 1, 0, 0, 1, 0, 1, 0, 0, 0, 0, 1, 1, 1, 1, 1, 1, 1, 1, 1, 1,\n",
       "        1, 0, 0, 0, 1, 1, 0, 1, 0, 1, 1, 0, 0, 1, 1, 0, 0, 0, 0, 0, 0, 0,\n",
       "        0, 0, 0, 0, 1, 1, 1, 0, 1, 1, 0, 0, 0, 1, 0, 0, 1, 0, 0, 0, 1, 1,\n",
       "        1, 0, 1]),\n",
       " array([1, 0, 1, 0, 0, 0, 0, 0, 0, 1, 0, 0, 1, 0, 0, 0, 1, 0, 1, 1, 1, 0,\n",
       "        0, 1, 1, 0, 1, 0, 0, 0, 1, 0, 1, 1, 1, 0, 0, 1, 0, 0, 1, 1, 1, 0,\n",
       "        1, 1, 1, 1, 0, 0, 0, 0, 1, 0, 0, 0, 1, 0, 0, 1, 1, 1, 0, 0, 1, 1,\n",
       "        1, 1, 0, 1, 1, 1, 1, 0, 0, 1, 0, 0, 0, 0, 1, 0, 1, 1, 1, 0, 0, 1,\n",
       "        0, 0]),\n",
       " array([0, 0, 1, 0, 0, 1, 1, 0, 0, 1, 0, 1, 1, 1, 0, 0, 1, 0, 1, 0, 1, 1,\n",
       "        1, 0, 0, 1, 1, 0, 0, 1, 0, 0, 1, 0, 0, 1, 0, 1, 0, 1, 1, 0, 1, 0,\n",
       "        1]),\n",
       " array([1, 1, 1, 0, 0, 1, 0, 1, 0, 1, 0, 0, 0, 1, 0]),\n",
       " array([1, 1, 0, 0, 0, 1, 1, 0, 0, 1, 0, 1, 1, 1, 1, 1, 1, 0, 0, 1, 1, 0,\n",
       "        0, 0, 1, 0, 1, 1, 0, 1])]"
      ]
     },
     "execution_count": 84,
     "metadata": {},
     "output_type": "execute_result"
    }
   ],
   "source": [
    "# test generate chromsome\n",
    "generate_chromosome(10)"
   ]
  },
  {
   "cell_type": "code",
   "execution_count": null,
   "metadata": {},
   "outputs": [],
   "source": []
  },
  {
   "cell_type": "code",
   "execution_count": null,
   "metadata": {},
   "outputs": [],
   "source": [
    "suhu = [\"rendah\",\"normal\",\"tinggi\"]\n",
    "waktu = [\"pagi\",\"siang\",\"sore\",\"malam\"]\n",
    "langit = [\"hujan\",\"rintik\",\"berawan\",\"cerah\"]\n",
    "langit = [\"rendah\",\"normal\",\"tinggi\"] \n",
    "kelembaban = [\"rendah\",\"normal\",\"tinggi\"]\n",
    "terbang = [\"ya\"]"
   ]
  },
  {
   "cell_type": "code",
   "execution_count": null,
   "metadata": {},
   "outputs": [],
   "source": [
    "def checkChromosome(column, feature, value):\n",
    "    i = column.index(value)\n",
    "    return rule[i] == 1"
   ]
  },
  {
   "cell_type": "code",
   "execution_count": null,
   "metadata": {},
   "outputs": [],
   "source": [
    "def checkFeature(kromsom, data):\n",
    "    chromosomeFeature = featureChromosome(n_kromsom)\n",
    "    for divChromosome in chromosomeFeature :\n",
    "        sliceChromsome = [np.split(rule,[3,7,11,14]\n",
    "        \n",
    "        if checkChromosome(suhu,)"
   ]
  },
  {
   "cell_type": "code",
   "execution_count": 60,
   "metadata": {},
   "outputs": [
    {
     "name": "stdout",
     "output_type": "stream",
     "text": [
      "[1 1 0] == [0 1 1]\n",
      "True\n",
      "[0 1 0 1] == [0 0 1 1]\n",
      "True\n",
      "[1 0 0 0] == [0 1 1 1]\n",
      "False\n",
      "[0 0 0] == [0 0 0]\n",
      "False\n"
     ]
    }
   ],
   "source": [
    "a = rd.choices([0,1],k=15)\n",
    "b = rd.choices([0,1],k=15)\n",
    "fitur_a = np.split(a , [3,7,11,14])\n",
    "fitur_b = np.split(b , [3,7,11,14])\n",
    "for i in range(4):\n",
    "    print(fitur_a[i],'==',fitur_b[i])\n",
    "    print(np.any(np.logical_and(fitur_a[i],fitur_b[i])))"
   ]
  },
  {
   "cell_type": "code",
   "execution_count": 75,
   "metadata": {},
   "outputs": [
    {
     "data": {
      "text/plain": [
       "[array([1, 1, 0, 1, 1, 1, 0, 0, 1, 0, 0, 0, 0, 0, 0]),\n",
       " array([1, 1, 0, 0, 0, 1, 1, 0, 1, 0, 0, 1, 1, 0, 0]),\n",
       " array([1, 1, 1, 0, 1, 0, 1, 0, 0, 1, 0, 1, 1, 1, 0])]"
      ]
     },
     "execution_count": 75,
     "metadata": {},
     "output_type": "execute_result"
    }
   ],
   "source": [
    "chrom = np.array(rd.choices([0,1],k=45))\n",
    "np.split(chrom,round(len(chrom)/15))"
   ]
  },
  {
   "cell_type": "code",
   "execution_count": 102,
   "metadata": {},
   "outputs": [],
   "source": [
    "def bagiKromsom(kromsom,data):\n",
    "    krom = np.split(kromsom,round(len(kromsom)/15))\n",
    "    sliceData = np.split(data , [3,7,11,14])\n",
    "    sliceKromsom = np.split(kromsom, [3,7,11,14])\n",
    "    for i in range (4):\n",
    "        print(np.any(np.logical_and(data[i], kromsom[i])))\n"
   ]
  },
  {
   "cell_type": "code",
   "execution_count": 98,
   "metadata": {},
   "outputs": [
    {
     "name": "stdout",
     "output_type": "stream",
     "text": [
      "False\n",
      "False\n",
      "False\n",
      "True\n"
     ]
    }
   ],
   "source": [
    "chrom = np.array(rd.choices([0,1],k=45))\n",
    "bagiKromsom(chrom, datrain)"
   ]
  },
  {
   "cell_type": "code",
   "execution_count": null,
   "metadata": {},
   "outputs": [],
   "source": []
  },
  {
   "cell_type": "code",
   "execution_count": null,
   "metadata": {},
   "outputs": [],
   "source": [
    "#np.any(np.logical_and(a,b))\n",
    "#fiturkromsom\n",
    "def featureChromosome(n_gen):\n",
    "    return [n_gen[i:i + 15] for i in range(0, len(kromsom),15)]"
   ]
  },
  {
   "cell_type": "code",
   "execution_count": null,
   "metadata": {},
   "outputs": [],
   "source": []
  }
 ],
 "metadata": {
  "kernelspec": {
   "display_name": "Python 3",
   "language": "python",
   "name": "python3"
  },
  "language_info": {
   "codemirror_mode": {
    "name": "ipython",
    "version": 3
   },
   "file_extension": ".py",
   "mimetype": "text/x-python",
   "name": "python",
   "nbconvert_exporter": "python",
   "pygments_lexer": "ipython3",
   "version": "3.7.3"
  }
 },
 "nbformat": 4,
 "nbformat_minor": 4
}
