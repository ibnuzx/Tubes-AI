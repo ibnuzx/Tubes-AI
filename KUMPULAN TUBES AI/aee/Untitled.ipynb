{
 "cells": [
  {
   "cell_type": "code",
   "execution_count": 6,
   "metadata": {},
   "outputs": [],
   "source": [
    "import random as rd\n",
    "import pandas as pd\n",
    "import numpy as np\n",
    "from sklearn.preprocessing import OneHotEncoder"
   ]
  },
  {
   "cell_type": "code",
   "execution_count": 7,
   "metadata": {},
   "outputs": [
    {
     "data": {
      "text/html": [
       "<div>\n",
       "<style scoped>\n",
       "    .dataframe tbody tr th:only-of-type {\n",
       "        vertical-align: middle;\n",
       "    }\n",
       "\n",
       "    .dataframe tbody tr th {\n",
       "        vertical-align: top;\n",
       "    }\n",
       "\n",
       "    .dataframe thead th {\n",
       "        text-align: right;\n",
       "    }\n",
       "</style>\n",
       "<table border=\"1\" class=\"dataframe\">\n",
       "  <thead>\n",
       "    <tr style=\"text-align: right;\">\n",
       "      <th></th>\n",
       "      <th>Suhu</th>\n",
       "      <th>Waktu</th>\n",
       "      <th>Kondisi Langit</th>\n",
       "      <th>Kelembapan</th>\n",
       "      <th>Terbang/Tidak</th>\n",
       "    </tr>\n",
       "  </thead>\n",
       "  <tbody>\n",
       "    <tr>\n",
       "      <th>0</th>\n",
       "      <td>Normal</td>\n",
       "      <td>Siang</td>\n",
       "      <td>Berawan</td>\n",
       "      <td>Normal</td>\n",
       "      <td>Tidak</td>\n",
       "    </tr>\n",
       "    <tr>\n",
       "      <th>1</th>\n",
       "      <td>Normal</td>\n",
       "      <td>Siang</td>\n",
       "      <td>Cerah</td>\n",
       "      <td>Normal</td>\n",
       "      <td>Tidak</td>\n",
       "    </tr>\n",
       "    <tr>\n",
       "      <th>2</th>\n",
       "      <td>Normal</td>\n",
       "      <td>Pagi</td>\n",
       "      <td>Hujan</td>\n",
       "      <td>Normal</td>\n",
       "      <td>Tidak</td>\n",
       "    </tr>\n",
       "    <tr>\n",
       "      <th>3</th>\n",
       "      <td>Normal</td>\n",
       "      <td>Sore</td>\n",
       "      <td>Rintik</td>\n",
       "      <td>Rendah</td>\n",
       "      <td>Ya</td>\n",
       "    </tr>\n",
       "    <tr>\n",
       "      <th>4</th>\n",
       "      <td>Normal</td>\n",
       "      <td>Malam</td>\n",
       "      <td>Berawan</td>\n",
       "      <td>Tinggi</td>\n",
       "      <td>Tidak</td>\n",
       "    </tr>\n",
       "  </tbody>\n",
       "</table>\n",
       "</div>"
      ],
      "text/plain": [
       "     Suhu  Waktu Kondisi Langit Kelembapan Terbang/Tidak\n",
       "0  Normal  Siang        Berawan     Normal         Tidak\n",
       "1  Normal  Siang          Cerah     Normal         Tidak\n",
       "2  Normal   Pagi          Hujan     Normal         Tidak\n",
       "3  Normal   Sore         Rintik     Rendah            Ya\n",
       "4  Normal  Malam        Berawan     Tinggi         Tidak"
      ]
     },
     "execution_count": 7,
     "metadata": {},
     "output_type": "execute_result"
    }
   ],
   "source": [
    "data = pd.read_csv(\"dataset.csv\")\n",
    "data.head()"
   ]
  },
  {
   "cell_type": "code",
   "execution_count": 8,
   "metadata": {},
   "outputs": [
    {
     "data": {
      "text/html": [
       "<div>\n",
       "<style scoped>\n",
       "    .dataframe tbody tr th:only-of-type {\n",
       "        vertical-align: middle;\n",
       "    }\n",
       "\n",
       "    .dataframe tbody tr th {\n",
       "        vertical-align: top;\n",
       "    }\n",
       "\n",
       "    .dataframe thead th {\n",
       "        text-align: right;\n",
       "    }\n",
       "</style>\n",
       "<table border=\"1\" class=\"dataframe\">\n",
       "  <thead>\n",
       "    <tr style=\"text-align: right;\">\n",
       "      <th></th>\n",
       "      <th>0</th>\n",
       "      <th>1</th>\n",
       "      <th>2</th>\n",
       "      <th>3</th>\n",
       "      <th>4</th>\n",
       "      <th>5</th>\n",
       "      <th>6</th>\n",
       "      <th>7</th>\n",
       "      <th>8</th>\n",
       "      <th>9</th>\n",
       "      <th>10</th>\n",
       "      <th>11</th>\n",
       "      <th>12</th>\n",
       "      <th>13</th>\n",
       "      <th>14</th>\n",
       "    </tr>\n",
       "  </thead>\n",
       "  <tbody>\n",
       "    <tr>\n",
       "      <th>0</th>\n",
       "      <td>1</td>\n",
       "      <td>0</td>\n",
       "      <td>0</td>\n",
       "      <td>0</td>\n",
       "      <td>0</td>\n",
       "      <td>1</td>\n",
       "      <td>0</td>\n",
       "      <td>1</td>\n",
       "      <td>0</td>\n",
       "      <td>0</td>\n",
       "      <td>0</td>\n",
       "      <td>1</td>\n",
       "      <td>0</td>\n",
       "      <td>0</td>\n",
       "      <td>0</td>\n",
       "    </tr>\n",
       "    <tr>\n",
       "      <th>1</th>\n",
       "      <td>1</td>\n",
       "      <td>0</td>\n",
       "      <td>0</td>\n",
       "      <td>0</td>\n",
       "      <td>0</td>\n",
       "      <td>1</td>\n",
       "      <td>0</td>\n",
       "      <td>0</td>\n",
       "      <td>1</td>\n",
       "      <td>0</td>\n",
       "      <td>0</td>\n",
       "      <td>1</td>\n",
       "      <td>0</td>\n",
       "      <td>0</td>\n",
       "      <td>0</td>\n",
       "    </tr>\n",
       "    <tr>\n",
       "      <th>2</th>\n",
       "      <td>1</td>\n",
       "      <td>0</td>\n",
       "      <td>0</td>\n",
       "      <td>0</td>\n",
       "      <td>1</td>\n",
       "      <td>0</td>\n",
       "      <td>0</td>\n",
       "      <td>0</td>\n",
       "      <td>0</td>\n",
       "      <td>1</td>\n",
       "      <td>0</td>\n",
       "      <td>1</td>\n",
       "      <td>0</td>\n",
       "      <td>0</td>\n",
       "      <td>0</td>\n",
       "    </tr>\n",
       "    <tr>\n",
       "      <th>3</th>\n",
       "      <td>1</td>\n",
       "      <td>0</td>\n",
       "      <td>0</td>\n",
       "      <td>0</td>\n",
       "      <td>0</td>\n",
       "      <td>0</td>\n",
       "      <td>1</td>\n",
       "      <td>0</td>\n",
       "      <td>0</td>\n",
       "      <td>0</td>\n",
       "      <td>1</td>\n",
       "      <td>0</td>\n",
       "      <td>1</td>\n",
       "      <td>0</td>\n",
       "      <td>1</td>\n",
       "    </tr>\n",
       "    <tr>\n",
       "      <th>4</th>\n",
       "      <td>1</td>\n",
       "      <td>0</td>\n",
       "      <td>0</td>\n",
       "      <td>1</td>\n",
       "      <td>0</td>\n",
       "      <td>0</td>\n",
       "      <td>0</td>\n",
       "      <td>1</td>\n",
       "      <td>0</td>\n",
       "      <td>0</td>\n",
       "      <td>0</td>\n",
       "      <td>0</td>\n",
       "      <td>0</td>\n",
       "      <td>1</td>\n",
       "      <td>0</td>\n",
       "    </tr>\n",
       "  </tbody>\n",
       "</table>\n",
       "</div>"
      ],
      "text/plain": [
       "   0   1   2   3   4   5   6   7   8   9   10  11  12  13  14\n",
       "0   1   0   0   0   0   1   0   1   0   0   0   1   0   0   0\n",
       "1   1   0   0   0   0   1   0   0   1   0   0   1   0   0   0\n",
       "2   1   0   0   0   1   0   0   0   0   1   0   1   0   0   0\n",
       "3   1   0   0   0   0   0   1   0   0   0   1   0   1   0   1\n",
       "4   1   0   0   1   0   0   0   1   0   0   0   0   0   1   0"
      ]
     },
     "execution_count": 8,
     "metadata": {},
     "output_type": "execute_result"
    }
   ],
   "source": [
    "enc = OneHotEncoder(sparse=False)\n",
    "train = enc.fit_transform(data).astype(int)\n",
    "train = np.delete(train,14,1)\n",
    "pd.DataFrame(train).head()"
   ]
  },
  {
   "cell_type": "code",
   "execution_count": 9,
   "metadata": {},
   "outputs": [],
   "source": [
    "def generate_chromosome(n_population,n_gen):\n",
    "    population = []\n",
    "    for i in range(n_population):\n",
    "        gen = rd.choices([0,1],k=n_gen) # 1 gen\n",
    "        population.append(np.array(gen))\n",
    "    return population"
   ]
  },
  {
   "cell_type": "code",
   "execution_count": 11,
   "metadata": {},
   "outputs": [
    {
     "data": {
      "text/plain": [
       "[array([0, 0, 0, 0, 0, 0, 1, 1, 1, 1, 1, 0, 0, 1, 0]),\n",
       " array([1, 0, 0, 0, 0, 1, 0, 1, 0, 0, 0, 1, 0, 0, 0]),\n",
       " array([1, 0, 1, 1, 0, 0, 1, 1, 0, 1, 1, 0, 1, 0, 0]),\n",
       " array([1, 0, 0, 0, 1, 1, 0, 0, 0, 0, 0, 0, 1, 0, 0]),\n",
       " array([0, 0, 0, 1, 1, 1, 1, 1, 0, 0, 0, 1, 0, 0, 1]),\n",
       " array([1, 1, 1, 1, 1, 1, 1, 1, 1, 0, 0, 1, 1, 1, 0]),\n",
       " array([0, 0, 0, 1, 1, 1, 1, 1, 1, 1, 1, 1, 1, 1, 1]),\n",
       " array([1, 0, 1, 1, 1, 0, 1, 1, 0, 1, 0, 0, 0, 1, 0]),\n",
       " array([1, 1, 1, 1, 1, 1, 1, 1, 1, 1, 1, 0, 1, 1, 1]),\n",
       " array([0, 0, 1, 0, 1, 1, 1, 0, 0, 1, 1, 1, 0, 1, 1])]"
      ]
     },
     "execution_count": 11,
     "metadata": {},
     "output_type": "execute_result"
    }
   ],
   "source": [
    "generate_chromosome(10,15)"
   ]
  },
  {
   "cell_type": "code",
   "execution_count": 12,
   "metadata": {},
   "outputs": [
    {
     "data": {
      "text/plain": [
       "True"
      ]
     },
     "execution_count": 12,
     "metadata": {},
     "output_type": "execute_result"
    }
   ],
   "source": [
    "a = [1,0,0]\n",
    "b = [1,0,1]\n",
    "np.any(np.logical_and(a,b))"
   ]
  },
  {
   "cell_type": "code",
   "execution_count": 13,
   "metadata": {},
   "outputs": [
    {
     "data": {
      "text/plain": [
       "[[array([0, 1, 2]),\n",
       "  array([3, 4, 5, 6]),\n",
       "  array([ 7,  8,  9, 10]),\n",
       "  array([11, 12, 13]),\n",
       "  array([14])],\n",
       " [array([15, 16, 17]),\n",
       "  array([18, 19, 20, 21]),\n",
       "  array([22, 23, 24, 25]),\n",
       "  array([26, 27, 28]),\n",
       "  array([29])],\n",
       " [array([30, 31, 32]),\n",
       "  array([33, 34, 35, 36]),\n",
       "  array([37, 38, 39, 40]),\n",
       "  array([41, 42, 43]),\n",
       "  array([44])]]"
      ]
     },
     "execution_count": 13,
     "metadata": {},
     "output_type": "execute_result"
    }
   ],
   "source": [
    "arr = np.arange(0,45)\n",
    "rules = np.split(arr,round(len(arr)/15))\n",
    "rules\n",
    "features = []\n",
    "for rule in rules:\n",
    "    features.append(np.split(rule,[3,7,11,14]))\n",
    "features"
   ]
  },
  {
   "cell_type": "code",
   "execution_count": 14,
   "metadata": {},
   "outputs": [],
   "source": [
    "def calc_fitness(data_train,population):\n",
    "    fitness = []\n",
    "    for chrom in population:\n",
    "        split # each chromosome can contain more than 1 rule\n",
    "        i = 0\n",
    "        for data in data_train:\n",
    "            cocokin\n",
    "            if sama :\n",
    "                i+=1\n",
    "            hjabskdbjasd\n",
    "        fitness.append(i/80*100)\n",
    "    return fitness"
   ]
  },
  {
   "cell_type": "code",
   "execution_count": 3,
   "metadata": {},
   "outputs": [],
   "source": [
    "def crossOver(p1, p2):\n",
    "    c1 = np.array(p1)\n",
    "    c2 = np.array(p2)\n",
    "    \n",
    "    # If both length are 15\n",
    "    if (len(c1) == 15 and len(c2) == 15):\n",
    "        t1 = rd.randrange(0, len(p1)+1)\n",
    "        t2 = rd.randrange(0, len(p2)+1)\n",
    "        if (t1>t2):\n",
    "            t1, t2 = t2, t1\n",
    "        \n",
    "        new1 = np.hstack([c2[:t2], c1, c2[t2:]])\n",
    "        new2 = np.hstack([c1[:t2], c2, c1[t2:]])\n",
    "        \n",
    "        return new1.tolist(), new2.tolist()\n",
    "    else:\n",
    "#         print(\"INI\")\n",
    "        t1 = rd.randrange(0, len(c1))\n",
    "        t2 = rd.randrange(0, len(c1))\n",
    "        \n",
    "        temp1 = c1.copy()\n",
    "        temp2 = c2.copy()\n",
    "        \n",
    "        gen = 0\n",
    "        gap = 0\n",
    "        # To avoid gap = gen\n",
    "        while (gen == gap):\n",
    "            t1 = rd.randrange(0, len(c1))\n",
    "            t2 = rd.randrange(0, len(c1))\n",
    "            if (t1>t2):\n",
    "                t1, t2 = t2, t1\n",
    "                \n",
    "            gen = t2 - t1\n",
    "            gap = gen % 15\n",
    "        \n",
    "        # List of the possible index\n",
    "        list_idx = [[t1,t1+gap], [t1,t1+gen], [t2-gap, t2]]\n",
    "#         print(\"LIST\",list_idx)\n",
    "        \n",
    "        t3 = rd.randrange(0, len(c1))\n",
    "        idx3 = 0\n",
    "        if (t3-gap < 0):\n",
    "            idx3 = t3 + gap\n",
    "        else:\n",
    "            idx3 = t3 - gap\n",
    "        \n",
    "        if (t3 > idx3):\n",
    "            t3, idx3 = idx3, t3\n",
    "#         print(\"KE 3 \",t3, idx3)\n",
    "        # Choose the point to crossover\n",
    "        idx = rd.choice(list_idx)\n",
    "        \n",
    "        x1, y1 = temp1[:idx[0]], temp1[idx[1]+1:]\n",
    "        x2, y2 = temp2[:t3], temp2[idx3+1:]\n",
    "        \n",
    "        new1 = np.hstack([x1, temp2[t3:idx3+1], y1])\n",
    "        new2 = np.hstack([x2, temp1[idx[0]:idx[1]+1], y2])\n",
    "\n",
    "        return new1.tolist(), new2.tolist()"
   ]
  },
  {
   "cell_type": "code",
   "execution_count": 15,
   "metadata": {},
   "outputs": [
    {
     "name": "stdout",
     "output_type": "stream",
     "text": [
      "[0.0, 1.0, 2.0, 3.0, 4.0, 5.0, 0.0, 7.0, 8.0, 9.0, 10.0, 11.0, 12.0, 13.0, 14.0, 15.0, 16.0, 17.0, 18.0, 19.0, 20.0, 21.0, 22.0, 23.0, 24.0, 25.0, 26.0, 27.0, 28.0, 29.0]\n",
      "[0.0, 0.0, 0.0, 0.0, 0.0, 0.0, 0.0, 0.0, 0.0, 0.0, 0.0, 0.0, 0.0, 0.0, 0.0, 6.0, 0.0, 0.0, 0.0, 0.0, 0.0, 0.0, 0.0, 0.0, 0.0, 0.0, 0.0, 0.0, 0.0, 0.0]\n"
     ]
    },
    {
     "data": {
      "text/plain": [
       "(30, 30)"
      ]
     },
     "execution_count": 15,
     "metadata": {},
     "output_type": "execute_result"
    }
   ],
   "source": [
    "p1 = np.arange(0,30).tolist()\n",
    "p2 = np.zeros(30).tolist()\n",
    "a,b = crossOver(p1,p2)\n",
    "print(*crossOver(p1,p2),sep='\\n')\n",
    "len(a),len(b)"
   ]
  }
 ],
 "metadata": {
  "kernelspec": {
   "display_name": "Python 3",
   "language": "python",
   "name": "python3"
  },
  "language_info": {
   "codemirror_mode": {
    "name": "ipython",
    "version": 3
   },
   "file_extension": ".py",
   "mimetype": "text/x-python",
   "name": "python",
   "nbconvert_exporter": "python",
   "pygments_lexer": "ipython3",
   "version": "3.7.3"
  }
 },
 "nbformat": 4,
 "nbformat_minor": 4
}
