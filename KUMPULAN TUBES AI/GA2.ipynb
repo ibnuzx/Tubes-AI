{
 "cells": [
  {
   "cell_type": "code",
   "execution_count": 2,
   "metadata": {},
   "outputs": [],
   "source": [
    "import random\n",
    "import pandas\n",
    "import numpy\n",
    "from sklearn.preprocessing import OneHotEncoder\n",
    "import random\n",
    "import itertools"
   ]
  },
  {
   "cell_type": "markdown",
   "metadata": {},
   "source": [
    "## Input Dataset"
   ]
  },
  {
   "cell_type": "code",
   "execution_count": 3,
   "metadata": {},
   "outputs": [
    {
     "data": {
      "text/html": [
       "<div>\n",
       "<style scoped>\n",
       "    .dataframe tbody tr th:only-of-type {\n",
       "        vertical-align: middle;\n",
       "    }\n",
       "\n",
       "    .dataframe tbody tr th {\n",
       "        vertical-align: top;\n",
       "    }\n",
       "\n",
       "    .dataframe thead th {\n",
       "        text-align: right;\n",
       "    }\n",
       "</style>\n",
       "<table border=\"1\" class=\"dataframe\">\n",
       "  <thead>\n",
       "    <tr style=\"text-align: right;\">\n",
       "      <th></th>\n",
       "      <th>Suhu</th>\n",
       "      <th>Waktu</th>\n",
       "      <th>Kondisi Langit</th>\n",
       "      <th>Kelembapan</th>\n",
       "      <th>Terbang/Tidak</th>\n",
       "    </tr>\n",
       "  </thead>\n",
       "  <tbody>\n",
       "    <tr>\n",
       "      <th>0</th>\n",
       "      <td>Normal</td>\n",
       "      <td>Siang</td>\n",
       "      <td>Berawan</td>\n",
       "      <td>Normal</td>\n",
       "      <td>Tidak</td>\n",
       "    </tr>\n",
       "    <tr>\n",
       "      <th>1</th>\n",
       "      <td>Normal</td>\n",
       "      <td>Siang</td>\n",
       "      <td>Cerah</td>\n",
       "      <td>Normal</td>\n",
       "      <td>Tidak</td>\n",
       "    </tr>\n",
       "    <tr>\n",
       "      <th>2</th>\n",
       "      <td>Normal</td>\n",
       "      <td>Pagi</td>\n",
       "      <td>Hujan</td>\n",
       "      <td>Normal</td>\n",
       "      <td>Tidak</td>\n",
       "    </tr>\n",
       "    <tr>\n",
       "      <th>3</th>\n",
       "      <td>Normal</td>\n",
       "      <td>Sore</td>\n",
       "      <td>Rintik</td>\n",
       "      <td>Rendah</td>\n",
       "      <td>Ya</td>\n",
       "    </tr>\n",
       "    <tr>\n",
       "      <th>4</th>\n",
       "      <td>Normal</td>\n",
       "      <td>Malam</td>\n",
       "      <td>Berawan</td>\n",
       "      <td>Tinggi</td>\n",
       "      <td>Tidak</td>\n",
       "    </tr>\n",
       "  </tbody>\n",
       "</table>\n",
       "</div>"
      ],
      "text/plain": [
       "     Suhu  Waktu Kondisi Langit Kelembapan Terbang/Tidak\n",
       "0  Normal  Siang        Berawan     Normal         Tidak\n",
       "1  Normal  Siang          Cerah     Normal         Tidak\n",
       "2  Normal   Pagi          Hujan     Normal         Tidak\n",
       "3  Normal   Sore         Rintik     Rendah            Ya\n",
       "4  Normal  Malam        Berawan     Tinggi         Tidak"
      ]
     },
     "execution_count": 3,
     "metadata": {},
     "output_type": "execute_result"
    }
   ],
   "source": [
    "dataset = pandas.read_csv(\"dataset.csv\")\n",
    "dataset.head()"
   ]
  },
  {
   "cell_type": "markdown",
   "metadata": {},
   "source": [
    "## Input Datatrain"
   ]
  },
  {
   "cell_type": "code",
   "execution_count": 4,
   "metadata": {},
   "outputs": [
    {
     "data": {
      "text/html": [
       "<div>\n",
       "<style scoped>\n",
       "    .dataframe tbody tr th:only-of-type {\n",
       "        vertical-align: middle;\n",
       "    }\n",
       "\n",
       "    .dataframe tbody tr th {\n",
       "        vertical-align: top;\n",
       "    }\n",
       "\n",
       "    .dataframe thead th {\n",
       "        text-align: right;\n",
       "    }\n",
       "</style>\n",
       "<table border=\"1\" class=\"dataframe\">\n",
       "  <thead>\n",
       "    <tr style=\"text-align: right;\">\n",
       "      <th></th>\n",
       "      <th>0</th>\n",
       "      <th>1</th>\n",
       "      <th>2</th>\n",
       "      <th>3</th>\n",
       "      <th>4</th>\n",
       "      <th>5</th>\n",
       "      <th>6</th>\n",
       "      <th>7</th>\n",
       "      <th>8</th>\n",
       "      <th>9</th>\n",
       "      <th>10</th>\n",
       "      <th>11</th>\n",
       "      <th>12</th>\n",
       "      <th>13</th>\n",
       "      <th>14</th>\n",
       "    </tr>\n",
       "  </thead>\n",
       "  <tbody>\n",
       "    <tr>\n",
       "      <th>0</th>\n",
       "      <td>1</td>\n",
       "      <td>0</td>\n",
       "      <td>0</td>\n",
       "      <td>0</td>\n",
       "      <td>0</td>\n",
       "      <td>1</td>\n",
       "      <td>0</td>\n",
       "      <td>1</td>\n",
       "      <td>0</td>\n",
       "      <td>0</td>\n",
       "      <td>0</td>\n",
       "      <td>1</td>\n",
       "      <td>0</td>\n",
       "      <td>0</td>\n",
       "      <td>0</td>\n",
       "    </tr>\n",
       "    <tr>\n",
       "      <th>1</th>\n",
       "      <td>1</td>\n",
       "      <td>0</td>\n",
       "      <td>0</td>\n",
       "      <td>0</td>\n",
       "      <td>0</td>\n",
       "      <td>1</td>\n",
       "      <td>0</td>\n",
       "      <td>0</td>\n",
       "      <td>1</td>\n",
       "      <td>0</td>\n",
       "      <td>0</td>\n",
       "      <td>1</td>\n",
       "      <td>0</td>\n",
       "      <td>0</td>\n",
       "      <td>0</td>\n",
       "    </tr>\n",
       "    <tr>\n",
       "      <th>2</th>\n",
       "      <td>1</td>\n",
       "      <td>0</td>\n",
       "      <td>0</td>\n",
       "      <td>0</td>\n",
       "      <td>1</td>\n",
       "      <td>0</td>\n",
       "      <td>0</td>\n",
       "      <td>0</td>\n",
       "      <td>0</td>\n",
       "      <td>1</td>\n",
       "      <td>0</td>\n",
       "      <td>1</td>\n",
       "      <td>0</td>\n",
       "      <td>0</td>\n",
       "      <td>0</td>\n",
       "    </tr>\n",
       "    <tr>\n",
       "      <th>3</th>\n",
       "      <td>1</td>\n",
       "      <td>0</td>\n",
       "      <td>0</td>\n",
       "      <td>0</td>\n",
       "      <td>0</td>\n",
       "      <td>0</td>\n",
       "      <td>1</td>\n",
       "      <td>0</td>\n",
       "      <td>0</td>\n",
       "      <td>0</td>\n",
       "      <td>1</td>\n",
       "      <td>0</td>\n",
       "      <td>1</td>\n",
       "      <td>0</td>\n",
       "      <td>1</td>\n",
       "    </tr>\n",
       "    <tr>\n",
       "      <th>4</th>\n",
       "      <td>1</td>\n",
       "      <td>0</td>\n",
       "      <td>0</td>\n",
       "      <td>1</td>\n",
       "      <td>0</td>\n",
       "      <td>0</td>\n",
       "      <td>0</td>\n",
       "      <td>1</td>\n",
       "      <td>0</td>\n",
       "      <td>0</td>\n",
       "      <td>0</td>\n",
       "      <td>0</td>\n",
       "      <td>0</td>\n",
       "      <td>1</td>\n",
       "      <td>0</td>\n",
       "    </tr>\n",
       "  </tbody>\n",
       "</table>\n",
       "</div>"
      ],
      "text/plain": [
       "   0   1   2   3   4   5   6   7   8   9   10  11  12  13  14\n",
       "0   1   0   0   0   0   1   0   1   0   0   0   1   0   0   0\n",
       "1   1   0   0   0   0   1   0   0   1   0   0   1   0   0   0\n",
       "2   1   0   0   0   1   0   0   0   0   1   0   1   0   0   0\n",
       "3   1   0   0   0   0   0   1   0   0   0   1   0   1   0   1\n",
       "4   1   0   0   1   0   0   0   1   0   0   0   0   0   1   0"
      ]
     },
     "execution_count": 4,
     "metadata": {},
     "output_type": "execute_result"
    }
   ],
   "source": [
    "datatrain = OneHotEncoder(sparse=False).fit_transform(dataset).astype(int)\n",
    "datatrain = numpy.delete(datatrain,14,1)\n",
    "pandas.DataFrame(datatrain).head()"
   ]
  },
  {
   "cell_type": "markdown",
   "metadata": {},
   "source": [
    "## Init First Generation"
   ]
  },
  {
   "cell_type": "code",
   "execution_count": 5,
   "metadata": {
    "scrolled": false
   },
   "outputs": [],
   "source": [
    "def initPopulis(populationNumber, chromosomeSize):\n",
    "    populisInit = []\n",
    "    for i in range(0, populationNumber):\n",
    "        chromosome = createChromosome(chromosomeSize)\n",
    "        populisInit.append(numpy.array(chromosome))\n",
    "    return populisInit\n",
    "\n",
    "def createChromosome(chromosomeSize):\n",
    "    chromosome = []\n",
    "    for i in range(0, chromosomeSize):\n",
    "        chromosome.append(random.randint(0, 1))\n",
    "    return chromosome\n",
    "populis = initPopulis(10,30)"
   ]
  },
  {
   "cell_type": "markdown",
   "metadata": {},
   "source": [
    "## Split Array by Rule"
   ]
  },
  {
   "cell_type": "code",
   "execution_count": 6,
   "metadata": {},
   "outputs": [],
   "source": [
    "def split(arr):\n",
    "    splitted = []\n",
    "    for rule in arr:\n",
    "        splitted.append(numpy.split(rule,[3,7,11,14]))\n",
    "    return splitted   "
   ]
  },
  {
   "cell_type": "markdown",
   "metadata": {},
   "source": [
    "## Calculate Fitness"
   ]
  },
  {
   "cell_type": "code",
   "execution_count": 7,
   "metadata": {},
   "outputs": [
    {
     "data": {
      "text/plain": [
       "[100.0, 92.5, 73.75, 78.75, 85.0, 77.5, 73.75, 73.75, 100.0, 67.5]"
      ]
     },
     "execution_count": 7,
     "metadata": {},
     "output_type": "execute_result"
    }
   ],
   "source": [
    "def calc_fitness(data_train,population):\n",
    "    fitness = []\n",
    "    h = 0\n",
    "    split_data_train = split(data_train)\n",
    "    for chrom in population:\n",
    "        # split # each chromosome can contain more than 1 rule\n",
    "        i = 0\n",
    "        k = 0\n",
    "        subSplitPopulation = numpy.split(population[h],round(len(population[h])/15))\n",
    "        for data in split_data_train:\n",
    "            samaAll = False\n",
    "            adaBeda = False\n",
    "            j=0\n",
    "            for krom in split_data_train[k]:\n",
    "                for m in range(len(subSplitPopulation)):\n",
    "                    rulePop = split(subSplitPopulation)\n",
    "#                     print(numpy.all( ~(numpy.logical_xor(rulePop[0][j],split_data_train[k][j]))))\n",
    "                    if numpy.all( ~(numpy.logical_xor(rulePop[0][j],split_data_train[k][j]))):\n",
    "                        samaAll = True\n",
    "                        break\n",
    "                    elif numpy.any(numpy.logical_xor(rulePop[0][j],split_data_train[k][j])):\n",
    "                        adaBeda = True\n",
    "                        break\n",
    "                j +=1\n",
    "            if samaAll:\n",
    "                if(numpy.equal(rulePop[0][4],split_data_train[k][4])):\n",
    "                    i+=1\n",
    "            elif adaBeda:\n",
    "                if(numpy.not_equal(rulePop[0][4],split_data_train[k][4])):\n",
    "                    i+=1\n",
    "            k+=1\n",
    "        fit = (i/len(data_train))*100\n",
    "        fitness.append(fit)\n",
    "        h+=1\n",
    "    return fitness\n",
    "fitness = calc_fitness(datatrain,populis)\n",
    "fitness"
   ]
  },
  {
   "cell_type": "markdown",
   "metadata": {},
   "source": [
    "## Parent Selection"
   ]
  },
  {
   "cell_type": "code",
   "execution_count": 8,
   "metadata": {},
   "outputs": [],
   "source": [
    "def rouletteWheel(pops,fitness):\n",
    "    fitness_sum = sum(fitness)\n",
    "    probability_offset = 0\n",
    "\n",
    "    i = 0\n",
    "    probability = []\n",
    "    for pop in pops:\n",
    "        probs =probability_offset + (fitness[i] / fitness_sum) \n",
    "        probability.append(probs)\n",
    "        probability_offset += probs\n",
    "        i+=1\n",
    "    r = random.random()\n",
    "\n",
    "    i = 0\n",
    "    parent = 0\n",
    "    for pop in pops:\n",
    "        if probability[i] > r:\n",
    "            break; \n",
    "        parent = i\n",
    "        i+=1\n",
    "    return parent"
   ]
  },
  {
   "cell_type": "code",
   "execution_count": 9,
   "metadata": {},
   "outputs": [],
   "source": [
    "def parentSelection(pops,fitness):\n",
    "    while True:\n",
    "        parent1idx = rouletteWheel(populis,fitness)\n",
    "        while True:\n",
    "            parent2idx = rouletteWheel(populis,fitness)\n",
    "            if (parent1idx != (parent2idx)):\n",
    "                break\n",
    "        break\n",
    "    return parent1idx,parent2idx"
   ]
  },
  {
   "cell_type": "code",
   "execution_count": 10,
   "metadata": {},
   "outputs": [],
   "source": [
    "def order1Crossover(parent1,parent2):\n",
    "    lb1 = random.randint(0,len(parent1)-1)\n",
    "    ub1 = random.randint(lb1,len(parent1)-1)\n",
    "    lb2 = random.randint(lb1,ub1)\n",
    "    ub2 = random.randint(lb2,ub1)\n",
    "    parentCrossed = []\n",
    "    for i in range (len(parent1)):\n",
    "        if i < lb2 :\n",
    "            parentCrossed.append(parent1[i])\n",
    "        elif lb2 <= i <= ub2 :\n",
    "            parentCrossed.append(parent2[i])\n",
    "        elif ub2 < i:\n",
    "            parentCrossed.append(parent1[i])\n",
    "    return parentCrossed"
   ]
  },
  {
   "cell_type": "markdown",
   "metadata": {},
   "source": [
    "## Crossover"
   ]
  },
  {
   "cell_type": "code",
   "execution_count": 11,
   "metadata": {},
   "outputs": [
    {
     "data": {
      "text/plain": [
       "(array([0, 1, 0, 1, 0, 0, 1, 1, 1, 0, 1, 1, 1, 0, 0, 0, 1, 0, 1, 1, 0, 1,\n",
       "        1, 1, 1, 1, 0, 1, 0, 1]),\n",
       " array([0, 1, 1, 1, 1, 1, 1, 0, 0, 0, 1, 0, 1, 0, 1, 0, 1, 0, 0, 0, 0, 0,\n",
       "        0, 1, 0, 0, 1, 0, 0, 1]))"
      ]
     },
     "execution_count": 11,
     "metadata": {},
     "output_type": "execute_result"
    }
   ],
   "source": [
    "def crossover(parent1,parent2):\n",
    "#   if the \n",
    "    if (len(parent1)>len(parent2)):\n",
    "        parentTemp = parent1\n",
    "        parent1 = parent2\n",
    "        parent2 = parentTemp\n",
    "    lb1 = random.randint(0,len(parent1)-1)\n",
    "    point1 = [lb1,random.randint(lb1,len(parent1)-1)]\n",
    "    \n",
    "    diff = point1[1]-point1[0]\n",
    "    gap = diff % 15\n",
    "    \n",
    "    p2Candidate = [[point1[0],point1[0]+diff],[point1[0],point1[0]+gap],[point1[1]-diff,point1[1]],[point1[1]-gap,point1[1]]]\n",
    "    p2Candidate.sort()\n",
    "    p2Candidate = list(p2Candidate for p2Candidate,_ in itertools.groupby(p2Candidate))\n",
    "    point2 = random.choice(p2Candidate)\n",
    "    \n",
    "    subParent1 = parent1[point1[0]:point1[1]]\n",
    "    subParent2 = parent2[point2[0]:point2[1]]\n",
    "    \n",
    "    parent1 = numpy.hstack([parent1[0:point1[0]],subParent2,parent1[point1[1]:len(parent1)]])\n",
    "    parent2 = numpy.hstack([parent2[0:point2[0]],subParent1,parent2[point2[1]:len(parent2)]])\n",
    "    \n",
    "    parent1.tolist()\n",
    "    parent2.tolist()\n",
    "    \n",
    "    return parent1,parent2\n",
    "\n",
    "pr1,pr2 = parentSelection(populis,fitness)\n",
    "crossover(populis[pr1],populis[pr2])"
   ]
  },
  {
   "cell_type": "code",
   "execution_count": 12,
   "metadata": {},
   "outputs": [],
   "source": [
    "def scrambleMutation(parent):\n",
    "    lb = random.randint(0,len(parent)-1)\n",
    "    ub = random.randint(lb,len(parent)-1)\n",
    "    shuffledParent = []\n",
    "    probability = 0.1\n",
    "    alpha = random.uniform(0,1)\n",
    "    if (alpha <= probability):\n",
    "#         print('lb',lb)\n",
    "#         print('ub',ub)\n",
    "        for i in range (len(parent)):\n",
    "            if lb <= i <= ub:\n",
    "                shuffledParent.append(parent[i])\n",
    "        random.shuffle(shuffledParent)\n",
    "        for k in range (len(parent)):\n",
    "            if lb <= k <= ub:\n",
    "                parent[k] = shuffledParent[k-lb]\n",
    "    return parent"
   ]
  },
  {
   "cell_type": "code",
   "execution_count": 13,
   "metadata": {},
   "outputs": [],
   "source": [
    "def survivors(parent1,parent2):\n",
    "    newGen = initPopulis(8,30)\n",
    "    newGen.append(parent1)\n",
    "    newGen.append(parent2)\n",
    "    return newGen"
   ]
  },
  {
   "cell_type": "code",
   "execution_count": 14,
   "metadata": {},
   "outputs": [],
   "source": [
    "def perfectFitnessCheck(fitness):\n",
    "    for i in range(len(fitness)):\n",
    "        if (fitness[i] >= 100) :\n",
    "            return i\n",
    "    i = -1\n",
    "    return (-1)"
   ]
  },
  {
   "cell_type": "code",
   "execution_count": 15,
   "metadata": {},
   "outputs": [
    {
     "name": "stdout",
     "output_type": "stream",
     "text": [
      "0\n"
     ]
    }
   ],
   "source": [
    "def evolve():\n",
    "    populis = initPopulis(10,30)\n",
    "    i=-1\n",
    "    while (i==-1):\n",
    "        fitness = calc_fitness(datatrain,populis)\n",
    "        i = perfectFitnessCheck(fitness)\n",
    "        print(i)\n",
    "        if (i==-1):\n",
    "            pr1idx,pr2idx = parentSelection(populis,fitness)\n",
    "            child1,child2 = crossover(populis[pr1idx],populis[pr2idx])\n",
    "            newChild1 = scrambleMutation(child1)\n",
    "            newChild2 = scrambleMutation(child2)\n",
    "            populis = survivors(newChild1,newChild2)\n",
    "evolve()"
   ]
  },
  {
   "cell_type": "code",
   "execution_count": 16,
   "metadata": {},
   "outputs": [
    {
     "data": {
      "text/plain": [
       "array([0, 1, 0, 1, 0, 0, 1, 1, 1, 0, 1, 1, 1, 1, 0, 0, 1, 1, 1, 0, 0, 1,\n",
       "       0, 1, 0, 0, 1, 0, 0, 1])"
      ]
     },
     "execution_count": 16,
     "metadata": {},
     "output_type": "execute_result"
    }
   ],
   "source": [
    "pr1,pr2 = parentSelection(populis,fitness)\n",
    "parent1,parent2 = crossover(populis[pr1],populis[pr2])\n",
    "parent1 = scrambleMutation(parent1)\n",
    "parent1"
   ]
  },
  {
   "cell_type": "code",
   "execution_count": null,
   "metadata": {},
   "outputs": [],
   "source": []
  },
  {
   "cell_type": "code",
   "execution_count": 17,
   "metadata": {},
   "outputs": [
    {
     "name": "stdout",
     "output_type": "stream",
     "text": [
      "[ 0  1  2  3  4  5  6  7  8  9 10 11 12 13 14 15 16 17 18 19 20 21 22 23\n",
      " 24 25 26 27 28 29 30 31 32 33 34 35 36 37 38 39 40 41 42 43 44]\n",
      "[array([ 0,  1,  2,  3,  4,  5,  6,  7,  8,  9, 10, 11, 12, 13, 14]), array([15, 16, 17, 18, 19, 20, 21, 22, 23, 24, 25, 26, 27, 28, 29]), array([30, 31, 32, 33, 34, 35, 36, 37, 38, 39, 40, 41, 42, 43, 44])]\n"
     ]
    }
   ],
   "source": [
    "arr = numpy.arange(0,45)\n",
    "print(arr)\n",
    "rules = numpy.split(arr,round(len(arr)/15))\n",
    "print(rules)"
   ]
  },
  {
   "cell_type": "code",
   "execution_count": 18,
   "metadata": {},
   "outputs": [
    {
     "data": {
      "text/plain": [
       "True"
      ]
     },
     "execution_count": 18,
     "metadata": {},
     "output_type": "execute_result"
    }
   ],
   "source": [
    "a = numpy.array([1,0,0])\n",
    "b = [1,0,1]\n",
    "numpy.any(numpy.logical_and(a,b))"
   ]
  },
  {
   "cell_type": "code",
   "execution_count": 19,
   "metadata": {},
   "outputs": [
    {
     "data": {
      "text/plain": [
       "True"
      ]
     },
     "execution_count": 19,
     "metadata": {},
     "output_type": "execute_result"
    }
   ],
   "source": [
    "split(populis)[0][0]\n",
    "split(datatrain)[0][0]\n",
    "a = split(populis)[4][0]\n",
    "b = split(datatrain)[0][0]\n",
    "numpy.any(numpy.logical_and(a,b))"
   ]
  },
  {
   "cell_type": "code",
   "execution_count": 20,
   "metadata": {},
   "outputs": [
    {
     "data": {
      "text/plain": [
       "array([1, 0, 1, 1, 0, 1, 0, 1, 0, 0, 1, 1, 1, 1, 0, 0, 1, 1, 1, 0, 0, 1,\n",
       "       0, 1, 0, 0, 0, 1, 1, 1])"
      ]
     },
     "execution_count": 20,
     "metadata": {},
     "output_type": "execute_result"
    }
   ],
   "source": [
    "populis[0]"
   ]
  },
  {
   "cell_type": "code",
   "execution_count": 22,
   "metadata": {},
   "outputs": [
    {
     "name": "stdout",
     "output_type": "stream",
     "text": [
      "60\n",
      "[array([1, 0, 1, 1, 0, 1, 0, 1, 0, 0, 1, 1, 1, 1, 0, 0, 1, 1, 1, 0, 0, 1,\n",
      "       0, 1, 0, 0, 0, 1, 1, 1]), array([1, 0, 1, 0, 0, 1, 1, 0, 1, 0, 0, 0, 1, 1, 1, 1, 1, 1, 0, 0, 0, 0,\n",
      "       1, 1, 1, 0, 1, 0, 0, 1])]\n"
     ]
    }
   ],
   "source": [
    "arr = numpy.concatenate((populis[0],populis[1]))\n",
    "print(len(arr))\n",
    "a = len(arr)\n",
    "rules = numpy.split(arr,2)\n",
    "print(rules)"
   ]
  },
  {
   "cell_type": "code",
   "execution_count": 23,
   "metadata": {},
   "outputs": [
    {
     "ename": "ValueError",
     "evalue": "The truth value of an array with more than one element is ambiguous. Use a.any() or a.all()",
     "output_type": "error",
     "traceback": [
      "\u001b[1;31m---------------------------------------------------------------------------\u001b[0m",
      "\u001b[1;31mValueError\u001b[0m                                Traceback (most recent call last)",
      "\u001b[1;32m<ipython-input-23-09ad973d3c3f>\u001b[0m in \u001b[0;36m<module>\u001b[1;34m\u001b[0m\n\u001b[0;32m     27\u001b[0m         \u001b[0mh\u001b[0m\u001b[1;33m+=\u001b[0m\u001b[1;36m1\u001b[0m\u001b[1;33m\u001b[0m\u001b[1;33m\u001b[0m\u001b[0m\n\u001b[0;32m     28\u001b[0m     \u001b[1;32mreturn\u001b[0m \u001b[0mfitness\u001b[0m\u001b[1;33m\u001b[0m\u001b[1;33m\u001b[0m\u001b[0m\n\u001b[1;32m---> 29\u001b[1;33m \u001b[0mfitness\u001b[0m \u001b[1;33m=\u001b[0m \u001b[0mcalc_fitness\u001b[0m\u001b[1;33m(\u001b[0m\u001b[0mdatatrain\u001b[0m\u001b[1;33m,\u001b[0m\u001b[0mpopulis\u001b[0m\u001b[1;33m)\u001b[0m\u001b[1;33m\u001b[0m\u001b[1;33m\u001b[0m\u001b[0m\n\u001b[0m\u001b[0;32m     30\u001b[0m \u001b[0mfitness\u001b[0m\u001b[1;33m\u001b[0m\u001b[1;33m\u001b[0m\u001b[0m\n",
      "\u001b[1;32m<ipython-input-23-09ad973d3c3f>\u001b[0m in \u001b[0;36mcalc_fitness\u001b[1;34m(data_train, population)\u001b[0m\n\u001b[0;32m     19\u001b[0m                 \u001b[0mj\u001b[0m \u001b[1;33m+=\u001b[0m\u001b[1;36m1\u001b[0m\u001b[1;33m\u001b[0m\u001b[1;33m\u001b[0m\u001b[0m\n\u001b[0;32m     20\u001b[0m             \u001b[1;32mif\u001b[0m \u001b[0msama\u001b[0m\u001b[1;33m:\u001b[0m\u001b[1;33m\u001b[0m\u001b[1;33m\u001b[0m\u001b[0m\n\u001b[1;32m---> 21\u001b[1;33m                 \u001b[1;32mif\u001b[0m\u001b[1;33m(\u001b[0m\u001b[0mnumpy\u001b[0m\u001b[1;33m.\u001b[0m\u001b[0mequal\u001b[0m\u001b[1;33m(\u001b[0m\u001b[0msplit_population\u001b[0m\u001b[1;33m[\u001b[0m\u001b[0mh\u001b[0m\u001b[1;33m]\u001b[0m\u001b[1;33m[\u001b[0m\u001b[1;36m4\u001b[0m\u001b[1;33m]\u001b[0m\u001b[1;33m,\u001b[0m\u001b[0msplit_data_train\u001b[0m\u001b[1;33m[\u001b[0m\u001b[0mk\u001b[0m\u001b[1;33m]\u001b[0m\u001b[1;33m[\u001b[0m\u001b[1;36m4\u001b[0m\u001b[1;33m]\u001b[0m\u001b[1;33m)\u001b[0m\u001b[1;33m)\u001b[0m\u001b[1;33m:\u001b[0m\u001b[1;33m\u001b[0m\u001b[1;33m\u001b[0m\u001b[0m\n\u001b[0m\u001b[0;32m     22\u001b[0m                     \u001b[0mi\u001b[0m\u001b[1;33m+=\u001b[0m\u001b[1;36m1\u001b[0m\u001b[1;33m\u001b[0m\u001b[1;33m\u001b[0m\u001b[0m\n\u001b[0;32m     23\u001b[0m             \u001b[1;32melse\u001b[0m\u001b[1;33m:\u001b[0m\u001b[1;33m\u001b[0m\u001b[1;33m\u001b[0m\u001b[0m\n",
      "\u001b[1;31mValueError\u001b[0m: The truth value of an array with more than one element is ambiguous. Use a.any() or a.all()"
     ]
    }
   ],
   "source": [
    "def calc_fitness(data_train,population):\n",
    "    fitness = []\n",
    "    h = 0\n",
    "    split_data_train = split(data_train)\n",
    "    split_population = split(population) \n",
    "    for chrom in population:\n",
    "        # split # each chromosome can contain more than 1 rule\n",
    "\n",
    "        i = 0\n",
    "        k = 0\n",
    "        for data in split_data_train:\n",
    "            sama = False\n",
    "            j=0\n",
    "        \n",
    "            for krom in split_data_train[k]:\n",
    "                if numpy.any( ~(numpy.logical_xor(split_population[h][j],split_data_train[k][j]))):\n",
    "                    sama = True\n",
    "                    break\n",
    "                j +=1\n",
    "            if sama:\n",
    "                if(numpy.equal(split_population[h][4],split_data_train[k][4])):\n",
    "                    i+=1\n",
    "            else:\n",
    "                print(\"false\")\n",
    "            k+=1\n",
    "        fitness.append((i/len(data_train))*100)\n",
    "        h+=1\n",
    "    return fitness\n",
    "fitness = calc_fitness(datatrain,populis)\n",
    "fitness"
   ]
  }
 ],
 "metadata": {
  "kernelspec": {
   "display_name": "Python 3",
   "language": "python",
   "name": "python3"
  },
  "language_info": {
   "codemirror_mode": {
    "name": "ipython",
    "version": 3
   },
   "file_extension": ".py",
   "mimetype": "text/x-python",
   "name": "python",
   "nbconvert_exporter": "python",
   "pygments_lexer": "ipython3",
   "version": "3.7.3"
  }
 },
 "nbformat": 4,
 "nbformat_minor": 2
}
