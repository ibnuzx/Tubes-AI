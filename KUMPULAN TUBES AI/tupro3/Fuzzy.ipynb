{
 "cells": [
  {
   "cell_type": "code",
   "execution_count": 6,
   "metadata": {},
   "outputs": [],
   "source": [
    "import numpy as np\n",
    "import pandas as pd"
   ]
  },
  {
   "cell_type": "markdown",
   "metadata": {},
   "source": [
    "### Object Data"
   ]
  },
  {
   "cell_type": "code",
   "execution_count": 5,
   "metadata": {},
   "outputs": [],
   "source": [
    "class Datafuzzy:\n",
    "    def __init__(self, score, decs):\n",
    "        self.score = score\n",
    "        self.decs = decs\n",
    "    "
   ]
  },
  {
   "cell_type": "markdown",
   "metadata": {},
   "source": [
    "### Fuzzification"
   ]
  },
  {
   "cell_type": "code",
   "execution_count": 7,
   "metadata": {
    "scrolled": true
   },
   "outputs": [
    {
     "name": "stdout",
     "output_type": "stream",
     "text": [
      "2\n",
      "1\n",
      "NILAI TESTULIS :  0.6 INDEX :  CUKUP\n",
      "NILAI TESTULIS 2 :  0.4 INDEX :  BAGUS\n",
      "\n",
      "NILAI WAWANCARA :  0.8 INDEX :  CUKUP\n"
     ]
    }
   ],
   "source": [
    "interview = []\n",
    "writting = []\n",
    "scoreFuzzy = 0\n",
    "scoreT = 78\n",
    "scoreW = 57\n",
    "\n",
    "# WRITTING TEST=========================================\n",
    "# KURANG\n",
    "# STABLE GRAPH\n",
    "if (0 <= scoreT and scoreT <=37):\n",
    "    # membership function\n",
    "    scoreFuzzy = 1\n",
    "    writting.append(Datafuzzy(scoreFuzzy, \"KURANG\"))\n",
    "    \n",
    "# GRAPH DOWN\n",
    "elif (37 < scoreT and scoreT <= 57):\n",
    "    # membership function\n",
    "    scoreFuzzy = np.absolute((scoreT - 57) / (57 - 38))\n",
    "    writting.append(Datafuzzy(\"%.1f\" % scoreFuzzy, \"KURANG\"))\n",
    "    \n",
    "# CUKUP\n",
    "# THE GRAPH GOES UP\n",
    "if (42 <= scoreT and scoreT <= 67):\n",
    "    # membership function\n",
    "    scoreFuzzy = (scoreT - 42) / (67 - 42) \n",
    "    writting.append(Datafuzzy(\"%.1f\" % scoreFuzzy, \"CUKUP\"))\n",
    "    \n",
    "# STABLE GRAPH\n",
    "elif (67 < scoreT and scoreT < 75):\n",
    "    # membership function\n",
    "    scoreFuzzy = 1\n",
    "    writting.append(Datafuzzy(scoreFuzzy, \"CUKUP\"))\n",
    "    \n",
    "# GRAPH DOWN\n",
    "elif (75 <= scoreT and scoreT <= 82):\n",
    "    # membership function\n",
    "    scoreFuzzy = np.absolute((scoreT - 82) / (82 - 75))\n",
    "    writting.append(Datafuzzy(\"%.1f\" % scoreFuzzy, \"CUKUP\"))\n",
    "\n",
    "# BAGUS\n",
    "# THE GRAPH GOES UP\n",
    "if (75 <= scoreT and scoreT <= 82):\n",
    "    # membership function\n",
    "    scoreFuzzy = 1 - scoreFuzzy\n",
    "    writting.append(Datafuzzy(\"%.1f\" % scoreFuzzy, \"BAGUS\"))\n",
    "    \n",
    "# STABLE GRAPH\n",
    "elif (82 < scoreT and scoreT <= 100):\n",
    "    # membership function\n",
    "    scoreFuzzy = 1\n",
    "    writting.append(Datafuzzy(scoreFuzzy, \"BAGUS\"))\n",
    "    \n",
    "    \n",
    "#INTERVIEW TEST=========================================\n",
    "# KURANG\n",
    "# STABLE GRAPH\n",
    "if (0 <= scoreW and scoreW <= 35):\n",
    "    # membership function\n",
    "    scoreFuzzy = 1\n",
    "    interview.append(Datafuzzy(scoreFuzzy, \"KURANG\"))\n",
    "    \n",
    "# GRAPH DOWN\n",
    "elif (35 < scoreW and scoreW <= 47):\n",
    "    # membership function\n",
    "    scoreFuzzy = np.absolute((scoreW - 47) / (47 - 36))\n",
    "    interview.append(Datafuzzy(\"%.1f\" % scoreFuzzy, \"KURANG\"))\n",
    "    \n",
    "# CUKUP\n",
    "# THE GRAPH GOES UP\n",
    "if (41 <= scoreW and scoreW <= 60):\n",
    "    # membership function\n",
    "    scoreFuzzy = (scoreW - 41) / (60 - 41) \n",
    "    interview.append(Datafuzzy(\"%.1f\" % scoreFuzzy, \"CUKUP\"))\n",
    "    \n",
    "# STABLE GRAPH\n",
    "elif (60 < scoreW and scoreW <=69):\n",
    "    # membership function\n",
    "    scoreFuzzy = 1\n",
    "    interview.append(Datafuzzy(scoreFuzzy, \"CUKUP\"))\n",
    "    \n",
    "# GRAPH DOWN\n",
    "elif (69 < scoreW and scoreW <= 77):\n",
    "    # membership function\n",
    "    scoreFuzzy = np.absolute((scoreT - 77) / (77 - 70))\n",
    "    interview.append(Datafuzzy(\"%.1f\" % scoreFuzzy, \"CUKUP\"))\n",
    "\n",
    "# BAGUS\n",
    "# THE GRAPH GOES UP\n",
    "if (75 <= scoreW and scoreW <= 85):\n",
    "    # membership function\n",
    "    scoreFuzzy = (scoreT - 75) / (85 - 75)\n",
    "    interview.append(Datafuzzy(\"%.1f\" % scoreFuzzy, \"BAGUS\"))\n",
    "    \n",
    "# STABLE GRAPH\n",
    "elif (85 < scoreW and scoreW <= 100):\n",
    "    # membership function\n",
    "    scoreFuzzy = 1\n",
    "    interview.append(Datafuzzy(scoreFuzzy, \"BAGUS\"))\n",
    "\n",
    "print(len(writting))\n",
    "print(len(interview))\n",
    "\n",
    "print(\"NILAI TESTULIS : \", writting[0].score, \"INDEX : \", writting[0].decs)\n",
    "if(len(writting) == 2):\n",
    "    print(\"NILAI TESTULIS 2 : \", writting[1].score, \"INDEX : \", writting[1].decs)\n",
    "\n",
    "print()\n",
    "\n",
    "print(\"NILAI WAWANCARA : \", interview[0].score, \"INDEX : \", interview[0].decs)\n",
    "if(len(interview) == 2):\n",
    "    print(\"NILAI WAWANCARA 2 : \", interview[1].score, \"INDEX : \", interview[1].decs)"
   ]
  },
  {
   "cell_type": "markdown",
   "metadata": {},
   "source": [
    "### Function"
   ]
  },
  {
   "cell_type": "code",
   "execution_count": 4,
   "metadata": {},
   "outputs": [],
   "source": [
    "# IF writting test is KURANG\n",
    "def ifKurang(category, scoreW, scoreI):\n",
    "    if (category == \"BAGUS\"):\n",
    "        temp_yes.append(min(scoreW,scoreI))\n",
    "        print(\"yes-\")\n",
    "    else:\n",
    "        temp_no.append(min(scoreW,scoreI))\n",
    "        print(\"no-\")\n",
    "\n",
    "# IF writting test is CUKUP or BAGUS \n",
    "def notKurang(category, scoreW, scoreI):\n",
    "    if (category == \"KURANG\"):\n",
    "        temp_no.append(min(scoreW,scoreI))\n",
    "        print(\"no--\")\n",
    "    else:\n",
    "        temp_yes.append(min(scoreW,scoreI))\n",
    "        print(\"yes--\")"
   ]
  },
  {
   "cell_type": "markdown",
   "metadata": {},
   "source": [
    "## Inference"
   ]
  },
  {
   "cell_type": "code",
   "execution_count": 5,
   "metadata": {},
   "outputs": [
    {
     "name": "stdout",
     "output_type": "stream",
     "text": [
      "yes--\n",
      "yes--\n",
      "YES :  0.6  NO :  0\n"
     ]
    }
   ],
   "source": [
    "temp_yes = []\n",
    "temp_no = []\n",
    "no = 0\n",
    "yes = 0\n",
    "# Fuzzy Rules\n",
    "# First decision writting test is KURANG\n",
    "if (writting[0].decs == \"KURANG\"):\n",
    "            \n",
    "# Get minimal score fuzzy every decision NO or YES\n",
    "    #interview 1\n",
    "    ifKurang(interview[0].decs, writting[0].score,interview[0].score)\n",
    "    \n",
    "    #if get 2 data fuzzy interview \n",
    "    if (len(interview) == 2):\n",
    "        #interview 2\n",
    "        ifKurang(interview[1].decs, writting[0].score,interview[1].score)\n",
    "            \n",
    "# First decision writting test is CUKUP or BAGUS                     \n",
    "else:\n",
    "    # interview 1\n",
    "    notKurang(interview[0].decs, writting[0].score, interview[0].score)\n",
    "\n",
    "    #if get 2 data fuzzy interview \n",
    "    if (len(interview) == 2):\n",
    "        # interview 2\n",
    "        notKurang(interview[1].decs, writting[0].score, interview[1].score)\n",
    "            \n",
    "# if get 2 data fuzzy writting                    \n",
    "if (len(writting) == 2):\n",
    "    \n",
    "    # Second decision writting test is KURANG\n",
    "    if (writting[1].decs == \"KURANG\"):\n",
    "        # Get minimal score fuzzy every decision NO or YES\n",
    "        # interview1\n",
    "        ifKurang(interview[0].decs, writting[1].score,interview[0].score)\n",
    "\n",
    "        #if get 2 data fuzzy interview              \n",
    "        if (len(interview) == 2):\n",
    "            #interview 2\n",
    "            ifKurang(interview[1].decs, writting[1].score,interview[1].score)\n",
    "                    \n",
    "    # Second decision writting test is CUKUP or BAGUS\n",
    "    else:\n",
    "        # interview 1\n",
    "        notKurang(interview[0].decs, writting[1].score,interview[0].score)\n",
    "            \n",
    "        #if get 2 data fuzzy interview \n",
    "        if (len(interview) == 2):\n",
    "            # interview 2\n",
    "            notKurang(interview[1].decs, writting[1].score,interview[1].score)\n",
    "\n",
    "\n",
    "# Result\n",
    "if(not temp_no and not temp_yes):\n",
    "    print(\"NO and YES is Error\")\n",
    "else:\n",
    "    if(temp_no):\n",
    "        if(temp_no[0] <= temp_no[1]):\n",
    "            no = float(temp_no[1])\n",
    "        else:\n",
    "            no = float(temp_no[0])\n",
    "    if(temp_yes):\n",
    "        if(temp_yes[0] <= temp_yes[1]):\n",
    "            yes = float(temp_yes[1])\n",
    "        else:\n",
    "            yes = float(temp_yes[0])\n",
    "print(\"YES : \", yes, \" NO : \", no)"
   ]
  },
  {
   "cell_type": "markdown",
   "metadata": {},
   "source": [
    "## Defuzzification"
   ]
  },
  {
   "cell_type": "code",
   "execution_count": 6,
   "metadata": {},
   "outputs": [
    {
     "name": "stdout",
     "output_type": "stream",
     "text": [
      "MAMDANI :  90.0\n",
      "DITERIMA\n",
      "\n",
      "SUGENO :  80.0\n",
      "DITERIMA\n"
     ]
    }
   ],
   "source": [
    "#MAMDANI\n",
    "mamdani = (((10 + 20 + 30 + 40 + 50 + 60 +70) * no) + ((80 + 90 + 100) * yes)) / ((7 * no) + (3 * yes))\n",
    "sugeno = ((no * 70) + (yes * 80)) / (no + yes)\n",
    "\n",
    "print(\"MAMDANI : \", \"%.1f\" % mamdani)\n",
    "\n",
    "if(mamdani >= 70):\n",
    "    print(\"DITERIMA\")\n",
    "else:\n",
    "    print(\"DITOLAK\")\n",
    "    \n",
    "print()\n",
    "print(\"SUGENO : \", \"%.1f\" % sugeno)\n",
    "if(sugeno >= 75):\n",
    "    print(\"DITERIMA\")\n",
    "else:\n",
    "    print(\"DITOLAK\")"
   ]
  },
  {
   "cell_type": "code",
   "execution_count": null,
   "metadata": {},
   "outputs": [],
   "source": []
  },
  {
   "cell_type": "code",
   "execution_count": null,
   "metadata": {},
   "outputs": [],
   "source": []
  },
  {
   "cell_type": "code",
   "execution_count": null,
   "metadata": {},
   "outputs": [],
   "source": []
  },
  {
   "cell_type": "code",
   "execution_count": null,
   "metadata": {},
   "outputs": [],
   "source": []
  }
 ],
 "metadata": {
  "kernelspec": {
   "display_name": "Python 3",
   "language": "python",
   "name": "python3"
  },
  "language_info": {
   "codemirror_mode": {
    "name": "ipython",
    "version": 3
   },
   "file_extension": ".py",
   "mimetype": "text/x-python",
   "name": "python",
   "nbconvert_exporter": "python",
   "pygments_lexer": "ipython3",
   "version": "3.7.3"
  }
 },
 "nbformat": 4,
 "nbformat_minor": 2
}
