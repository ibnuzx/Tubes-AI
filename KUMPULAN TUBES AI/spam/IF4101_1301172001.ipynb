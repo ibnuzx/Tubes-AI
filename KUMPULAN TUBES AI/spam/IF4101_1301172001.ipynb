{
 "cells": [
  {
   "cell_type": "code",
   "execution_count": 14,
   "metadata": {},
   "outputs": [],
   "source": [
    "import random\n",
    "import array"
   ]
  },
  {
   "cell_type": "code",
   "execution_count": 13,
   "metadata": {},
   "outputs": [],
   "source": [
    "def fungsi(X1,X2):\n",
    "    return ((4-2.1*X1**2)+(X1**4/3))*X1**2+(X1*X2)+ (-4+(4*X2**2))*X2**2"
   ]
  },
  {
   "cell_type": "code",
   "execution_count": 42,
   "metadata": {},
   "outputs": [],
   "source": [
    "#fungsi generate populasi\n",
    "def generatepopulation(n):\n",
    "    arrayreal = []\n",
    "    for i in range(n):\n",
    "        arrayreal.append([random.uniform(-3,3),random.uniform(-2,2)])\n",
    "    return arrayreal"
   ]
  },
  {
   "cell_type": "code",
   "execution_count": null,
   "metadata": {},
   "outputs": [],
   "source": []
  },
  {
   "cell_type": "code",
   "execution_count": 39,
   "metadata": {},
   "outputs": [],
   "source": [
    "#fungsi fitness\n",
    "def hitungfitness(populasi):\n",
    "    array = []\n",
    "    for i in (populasi):\n",
    "        array.append(-fungsi(i[0],i[1]))\n",
    "    return array\n",
    "        \n",
    "\n"
   ]
  },
  {
   "cell_type": "code",
   "execution_count": null,
   "metadata": {
    "scrolled": true
   },
   "outputs": [],
   "source": []
  },
  {
   "cell_type": "code",
   "execution_count": 38,
   "metadata": {},
   "outputs": [],
   "source": [
    "#seleksi ortu (turnamen selection)\n",
    "def tournamentselection(populasi,fit):\n",
    "    parent = []\n",
    "    z = zip(populasi,fit)\n",
    "    kandidat = random.sample(list(zip(populasi,fit)),random.randint(1,len(populasi)))\n",
    "    kandidat = sorted(kandidat,key= lambda k:k[1],reverse=True)\n",
    "    return kandidat[0][0]\n",
    "        \n",
    "     "
   ]
  },
  {
   "cell_type": "code",
   "execution_count": 36,
   "metadata": {},
   "outputs": [
    {
     "ename": "NameError",
     "evalue": "name 'x' is not defined",
     "output_type": "error",
     "traceback": [
      "\u001b[1;31m---------------------------------------------------------------------------\u001b[0m",
      "\u001b[1;31mNameError\u001b[0m                                 Traceback (most recent call last)",
      "\u001b[1;32m<ipython-input-36-50d8e73bb5bb>\u001b[0m in \u001b[0;36m<module>\u001b[1;34m\u001b[0m\n\u001b[1;32m----> 1\u001b[1;33m \u001b[0mtournamentselection\u001b[0m\u001b[1;33m(\u001b[0m\u001b[0mx\u001b[0m\u001b[1;33m,\u001b[0m\u001b[0mfit\u001b[0m\u001b[1;33m)\u001b[0m\u001b[1;33m\u001b[0m\u001b[1;33m\u001b[0m\u001b[0m\n\u001b[0m",
      "\u001b[1;31mNameError\u001b[0m: name 'x' is not defined"
     ]
    }
   ],
   "source": [
    "tournamentselection(x,fit)"
   ]
  },
  {
   "cell_type": "code",
   "execution_count": 34,
   "metadata": {},
   "outputs": [],
   "source": [
    "#crossover\n",
    "def crossover(parent1,parent2,pC):\n",
    "    p1,p2=parent1.copy(),parent2.copy()\n",
    "    if random.random() <=pC:\n",
    "        p1[1]=parent2[1]\n",
    "        p2[1]=parent1[1]\n",
    "    return p1,p2"
   ]
  },
  {
   "cell_type": "code",
   "execution_count": 33,
   "metadata": {},
   "outputs": [],
   "source": [
    "# a = [-2.921794087696745, 0.6320894067027796]\n",
    "# b = [1,0]\n",
    "# a,b = crossover(a,b,1)\n",
    "# print(a,b)"
   ]
  },
  {
   "cell_type": "code",
   "execution_count": 32,
   "metadata": {},
   "outputs": [],
   "source": [
    "#mutasi\n",
    "def mutasi(kromosom,pM):\n",
    "    if random.random()<=pM:\n",
    "        kromosom[0] = random.uniform(-3,3)\n",
    "    if random.random()<=pM:\n",
    "        kromosom[1] = random.uniform(-2,2)\n",
    "    return kromosom"
   ]
  },
  {
   "cell_type": "code",
   "execution_count": 31,
   "metadata": {},
   "outputs": [],
   "source": [
    "#elitisme\n",
    "def elitisme(populasi,fit):\n",
    "    temp = zip(populasi,fit)\n",
    "    temp = sorted(temp,key= lambda k:k[1],reverse=True)\n",
    "    return [temp[0][0],temp[1][0]]"
   ]
  },
  {
   "cell_type": "code",
   "execution_count": 30,
   "metadata": {},
   "outputs": [],
   "source": [
    "N=50\n",
    "gen = 1000\n",
    "pC = 0.8\n",
    "pM = 0.33"
   ]
  },
  {
   "cell_type": "code",
   "execution_count": 29,
   "metadata": {
    "scrolled": true
   },
   "outputs": [
    {
     "ename": "NameError",
     "evalue": "name 'mutasi' is not defined",
     "output_type": "error",
     "traceback": [
      "\u001b[1;31m---------------------------------------------------------------------------\u001b[0m",
      "\u001b[1;31mNameError\u001b[0m                                 Traceback (most recent call last)",
      "\u001b[1;32m<ipython-input-29-02a5e99537c5>\u001b[0m in \u001b[0;36m<module>\u001b[1;34m\u001b[0m\n\u001b[0;32m      8\u001b[0m         \u001b[0mparent2\u001b[0m \u001b[1;33m=\u001b[0m \u001b[0mtournamentselection\u001b[0m\u001b[1;33m(\u001b[0m\u001b[0mpopulasi\u001b[0m\u001b[1;33m,\u001b[0m\u001b[0mfit\u001b[0m\u001b[1;33m)\u001b[0m\u001b[1;33m\u001b[0m\u001b[1;33m\u001b[0m\u001b[0m\n\u001b[0;32m      9\u001b[0m         \u001b[0mchild1\u001b[0m\u001b[1;33m,\u001b[0m\u001b[0mchild2\u001b[0m \u001b[1;33m=\u001b[0m \u001b[0mcrossover\u001b[0m\u001b[1;33m(\u001b[0m\u001b[0mparent1\u001b[0m\u001b[1;33m,\u001b[0m\u001b[0mparent2\u001b[0m\u001b[1;33m,\u001b[0m\u001b[0mpC\u001b[0m\u001b[1;33m)\u001b[0m\u001b[1;33m\u001b[0m\u001b[1;33m\u001b[0m\u001b[0m\n\u001b[1;32m---> 10\u001b[1;33m         \u001b[0mchild1\u001b[0m \u001b[1;33m=\u001b[0m \u001b[0mmutasi\u001b[0m\u001b[1;33m(\u001b[0m\u001b[0mchild1\u001b[0m\u001b[1;33m,\u001b[0m\u001b[0mpM\u001b[0m\u001b[1;33m)\u001b[0m\u001b[1;33m\u001b[0m\u001b[1;33m\u001b[0m\u001b[0m\n\u001b[0m\u001b[0;32m     11\u001b[0m         \u001b[0mchild2\u001b[0m \u001b[1;33m=\u001b[0m \u001b[0mmutasi\u001b[0m\u001b[1;33m(\u001b[0m\u001b[0mchild2\u001b[0m\u001b[1;33m,\u001b[0m\u001b[0mpM\u001b[0m\u001b[1;33m)\u001b[0m\u001b[1;33m\u001b[0m\u001b[1;33m\u001b[0m\u001b[0m\n\u001b[0;32m     12\u001b[0m         \u001b[0mnewPopulation\u001b[0m\u001b[1;33m.\u001b[0m\u001b[0mappend\u001b[0m\u001b[1;33m(\u001b[0m\u001b[0mchild1\u001b[0m\u001b[1;33m)\u001b[0m\u001b[1;33m\u001b[0m\u001b[1;33m\u001b[0m\u001b[0m\n",
      "\u001b[1;31mNameError\u001b[0m: name 'mutasi' is not defined"
     ]
    }
   ],
   "source": [
    "#main\n",
    "populasi = generatepopulation(N)\n",
    "for i in range(gen):\n",
    "    fit = hitungfitness(populasi)\n",
    "    newPopulation= elitisme(populasi,fit)\n",
    "    while len(newPopulation) < N:\n",
    "        parent1 = tournamentselection(populasi,fit)\n",
    "        parent2 = tournamentselection(populasi,fit)\n",
    "        child1,child2 = crossover(parent1,parent2,pC)\n",
    "        child1 = mutasi(child1,pM)\n",
    "        child2 = mutasi(child2,pM)\n",
    "        newPopulation.append(child1)\n",
    "        newPopulation.append(child2)\n",
    "    populasi = newPopulation\n",
    "fit = hitungfitness(populasi)\n",
    "print(*list(zip(populasi,fit)),sep=\"\\n\")\n",
    "print(\"x1 = \", populasi[0][0])\n",
    "print(\"x2 = \", populasi[0][1])\n",
    "print(\"fitness = \",fit[0])"
   ]
  },
  {
   "cell_type": "code",
   "execution_count": null,
   "metadata": {},
   "outputs": [],
   "source": []
  }
 ],
 "metadata": {
  "kernelspec": {
   "display_name": "Python 3",
   "language": "python",
   "name": "python3"
  },
  "language_info": {
   "codemirror_mode": {
    "name": "ipython",
    "version": 3
   },
   "file_extension": ".py",
   "mimetype": "text/x-python",
   "name": "python",
   "nbconvert_exporter": "python",
   "pygments_lexer": "ipython3",
   "version": "3.7.3"
  }
 },
 "nbformat": 4,
 "nbformat_minor": 2
}
