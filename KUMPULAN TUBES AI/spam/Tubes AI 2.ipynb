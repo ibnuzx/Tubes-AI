{
 "cells": [
  {
   "cell_type": "code",
   "execution_count": 29,
   "metadata": {},
   "outputs": [
    {
     "name": "stdout",
     "output_type": "stream",
     "text": [
      "Chromosome :  [6.241765396610807, 7.2331662797970715, 9.516910183541574, 3.3037672085619043, 5.571632281332626, 8.351142407688009, 2.3114502066000773, 8.542549649445538, 2.384754405401477, 6.446389875458875]\n"
     ]
    }
   ],
   "source": [
    "import random\n",
    "import array\n",
    "\n",
    "\n",
    "#membuat kromsom\n",
    "class kromsom(object):\n",
    "    def __init__(self):\n",
    "        self.arrayreal = []\n",
    "    #    self.fitness()\n",
    "     #   self.normal()\n",
    "        for i in range (10):\n",
    "            self.arrayreal.append(random.uniform(0,10))\n",
    "\n",
    "\n",
    "0..\n",
    "# fungsi dekode kromsom\n",
    "\n",
    "def dekode(kromsom):\n",
    "    i = 0\n",
    "    X1 = -3+ ((3+3)/9) * (for i in range (9):\n",
    "                          kromsom.arrayreal[i] += kromsom.arrayreal[i+1] )\n",
    "    X2 = -2+ ((2+2)/9) * (for i in range (9):\n",
    "                          kromsom.arrayreal[i] += kromsom.arrayreal[i+1] )\n",
    "    return [X1,X2]\n",
    "\n",
    "#Perhitungan Objective (h) menggunakan fungsi yang tertera pada soal\n",
    "def objektif(kromsom):\n",
    "    X = dekode(kromsom)\n",
    "    X = \n",
    "\n",
    "\n",
    "\n",
    "\n",
    "\n",
    "\n",
    "\n",
    "#fungsi perhitungan ftness\n",
    "\n",
    "\n",
    "\n",
    "\n",
    "\n",
    "\n",
    "\n",
    "#fungsi pemilihan orang tua (roulette wheel selection)\n",
    "\n",
    "\n",
    "\n",
    "\n",
    "\n",
    "\n",
    "\n",
    "\n",
    "#fungsi crossover(pindahsilang)\n",
    "\n",
    "\n",
    "\n",
    "\n",
    "\n",
    "\n",
    "\n",
    "#fungsi mutasi\n",
    "\n",
    "\n",
    "\n",
    "\n",
    "\n",
    "\n",
    "\n",
    "#fungsi pergantian generasi\n",
    "\n",
    "\n",
    "\n",
    "\n",
    "#main\n",
    "individu = kromsom()\n",
    "print('Chromosome : 'individu.arrayreal)"
   ]
  },
  {
   "cell_type": "code",
   "execution_count": null,
   "metadata": {
    "scrolled": true
   },
   "outputs": [],
   "source": []
  },
  {
   "cell_type": "code",
   "execution_count": null,
   "metadata": {},
   "outputs": [],
   "source": []
  },
  {
   "cell_type": "code",
   "execution_count": null,
   "metadata": {},
   "outputs": [],
   "source": []
  },
  {
   "cell_type": "code",
   "execution_count": null,
   "metadata": {},
   "outputs": [],
   "source": []
  }
 ],
 "metadata": {
  "kernelspec": {
   "display_name": "Python 3",
   "language": "python",
   "name": "python3"
  },
  "language_info": {
   "codemirror_mode": {
    "name": "ipython",
    "version": 3
   },
   "file_extension": ".py",
   "mimetype": "text/x-python",
   "name": "python",
   "nbconvert_exporter": "python",
   "pygments_lexer": "ipython3",
   "version": "3.7.3"
  }
 },
 "nbformat": 4,
 "nbformat_minor": 2
}
