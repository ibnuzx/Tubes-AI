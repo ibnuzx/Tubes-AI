{
 "cells": [
  {
   "cell_type": "code",
   "execution_count": 4,
   "metadata": {},
   "outputs": [],
   "source": [
    "#import libray yg dibutuhkan\n",
    "import pandas as pd\n",
    "from sklearn.preprocessing import OneHotEncoder\n",
    "import numpy as np\n",
    "import random as rd"
   ]
  },
  {
   "cell_type": "code",
   "execution_count": 6,
   "metadata": {},
   "outputs": [
    {
     "data": {
      "text/html": [
       "<div>\n",
       "<style scoped>\n",
       "    .dataframe tbody tr th:only-of-type {\n",
       "        vertical-align: middle;\n",
       "    }\n",
       "\n",
       "    .dataframe tbody tr th {\n",
       "        vertical-align: top;\n",
       "    }\n",
       "\n",
       "    .dataframe thead th {\n",
       "        text-align: right;\n",
       "    }\n",
       "</style>\n",
       "<table border=\"1\" class=\"dataframe\">\n",
       "  <thead>\n",
       "    <tr style=\"text-align: right;\">\n",
       "      <th></th>\n",
       "      <th>Suhu</th>\n",
       "      <th>Waktu</th>\n",
       "      <th>Kondisi Langit</th>\n",
       "      <th>Kelembapan</th>\n",
       "      <th>Terbang/Tidak</th>\n",
       "    </tr>\n",
       "  </thead>\n",
       "  <tbody>\n",
       "    <tr>\n",
       "      <th>0</th>\n",
       "      <td>Normal</td>\n",
       "      <td>Siang</td>\n",
       "      <td>Berawan</td>\n",
       "      <td>Normal</td>\n",
       "      <td>Tidak</td>\n",
       "    </tr>\n",
       "    <tr>\n",
       "      <th>1</th>\n",
       "      <td>Normal</td>\n",
       "      <td>Siang</td>\n",
       "      <td>Cerah</td>\n",
       "      <td>Normal</td>\n",
       "      <td>Tidak</td>\n",
       "    </tr>\n",
       "    <tr>\n",
       "      <th>2</th>\n",
       "      <td>Normal</td>\n",
       "      <td>Pagi</td>\n",
       "      <td>Hujan</td>\n",
       "      <td>Normal</td>\n",
       "      <td>Tidak</td>\n",
       "    </tr>\n",
       "    <tr>\n",
       "      <th>3</th>\n",
       "      <td>Normal</td>\n",
       "      <td>Sore</td>\n",
       "      <td>Rintik</td>\n",
       "      <td>Rendah</td>\n",
       "      <td>Ya</td>\n",
       "    </tr>\n",
       "    <tr>\n",
       "      <th>4</th>\n",
       "      <td>Normal</td>\n",
       "      <td>Malam</td>\n",
       "      <td>Berawan</td>\n",
       "      <td>Tinggi</td>\n",
       "      <td>Tidak</td>\n",
       "    </tr>\n",
       "  </tbody>\n",
       "</table>\n",
       "</div>"
      ],
      "text/plain": [
       "     Suhu  Waktu Kondisi Langit Kelembapan Terbang/Tidak\n",
       "0  Normal  Siang        Berawan     Normal         Tidak\n",
       "1  Normal  Siang          Cerah     Normal         Tidak\n",
       "2  Normal   Pagi          Hujan     Normal         Tidak\n",
       "3  Normal   Sore         Rintik     Rendah            Ya\n",
       "4  Normal  Malam        Berawan     Tinggi         Tidak"
      ]
     },
     "execution_count": 6,
     "metadata": {},
     "output_type": "execute_result"
    }
   ],
   "source": [
    "#import data ke sini dulu\n",
    "data = pd.read_csv(\"datatrain.csv\")\n",
    "data.head()"
   ]
  },
  {
   "cell_type": "code",
   "execution_count": 7,
   "metadata": {},
   "outputs": [
    {
     "data": {
      "text/html": [
       "<div>\n",
       "<style scoped>\n",
       "    .dataframe tbody tr th:only-of-type {\n",
       "        vertical-align: middle;\n",
       "    }\n",
       "\n",
       "    .dataframe tbody tr th {\n",
       "        vertical-align: top;\n",
       "    }\n",
       "\n",
       "    .dataframe thead th {\n",
       "        text-align: right;\n",
       "    }\n",
       "</style>\n",
       "<table border=\"1\" class=\"dataframe\">\n",
       "  <thead>\n",
       "    <tr style=\"text-align: right;\">\n",
       "      <th></th>\n",
       "      <th>0</th>\n",
       "      <th>1</th>\n",
       "      <th>2</th>\n",
       "      <th>3</th>\n",
       "      <th>4</th>\n",
       "      <th>5</th>\n",
       "      <th>6</th>\n",
       "      <th>7</th>\n",
       "      <th>8</th>\n",
       "      <th>9</th>\n",
       "      <th>10</th>\n",
       "      <th>11</th>\n",
       "      <th>12</th>\n",
       "      <th>13</th>\n",
       "      <th>14</th>\n",
       "    </tr>\n",
       "  </thead>\n",
       "  <tbody>\n",
       "    <tr>\n",
       "      <th>0</th>\n",
       "      <td>1</td>\n",
       "      <td>0</td>\n",
       "      <td>0</td>\n",
       "      <td>0</td>\n",
       "      <td>0</td>\n",
       "      <td>1</td>\n",
       "      <td>0</td>\n",
       "      <td>1</td>\n",
       "      <td>0</td>\n",
       "      <td>0</td>\n",
       "      <td>0</td>\n",
       "      <td>1</td>\n",
       "      <td>0</td>\n",
       "      <td>0</td>\n",
       "      <td>0</td>\n",
       "    </tr>\n",
       "    <tr>\n",
       "      <th>1</th>\n",
       "      <td>1</td>\n",
       "      <td>0</td>\n",
       "      <td>0</td>\n",
       "      <td>0</td>\n",
       "      <td>0</td>\n",
       "      <td>1</td>\n",
       "      <td>0</td>\n",
       "      <td>0</td>\n",
       "      <td>1</td>\n",
       "      <td>0</td>\n",
       "      <td>0</td>\n",
       "      <td>1</td>\n",
       "      <td>0</td>\n",
       "      <td>0</td>\n",
       "      <td>0</td>\n",
       "    </tr>\n",
       "    <tr>\n",
       "      <th>2</th>\n",
       "      <td>1</td>\n",
       "      <td>0</td>\n",
       "      <td>0</td>\n",
       "      <td>0</td>\n",
       "      <td>1</td>\n",
       "      <td>0</td>\n",
       "      <td>0</td>\n",
       "      <td>0</td>\n",
       "      <td>0</td>\n",
       "      <td>1</td>\n",
       "      <td>0</td>\n",
       "      <td>1</td>\n",
       "      <td>0</td>\n",
       "      <td>0</td>\n",
       "      <td>0</td>\n",
       "    </tr>\n",
       "    <tr>\n",
       "      <th>3</th>\n",
       "      <td>1</td>\n",
       "      <td>0</td>\n",
       "      <td>0</td>\n",
       "      <td>0</td>\n",
       "      <td>0</td>\n",
       "      <td>0</td>\n",
       "      <td>1</td>\n",
       "      <td>0</td>\n",
       "      <td>0</td>\n",
       "      <td>0</td>\n",
       "      <td>1</td>\n",
       "      <td>0</td>\n",
       "      <td>1</td>\n",
       "      <td>0</td>\n",
       "      <td>1</td>\n",
       "    </tr>\n",
       "    <tr>\n",
       "      <th>4</th>\n",
       "      <td>1</td>\n",
       "      <td>0</td>\n",
       "      <td>0</td>\n",
       "      <td>1</td>\n",
       "      <td>0</td>\n",
       "      <td>0</td>\n",
       "      <td>0</td>\n",
       "      <td>1</td>\n",
       "      <td>0</td>\n",
       "      <td>0</td>\n",
       "      <td>0</td>\n",
       "      <td>0</td>\n",
       "      <td>0</td>\n",
       "      <td>1</td>\n",
       "      <td>0</td>\n",
       "    </tr>\n",
       "  </tbody>\n",
       "</table>\n",
       "</div>"
      ],
      "text/plain": [
       "   0   1   2   3   4   5   6   7   8   9   10  11  12  13  14\n",
       "0   1   0   0   0   0   1   0   1   0   0   0   1   0   0   0\n",
       "1   1   0   0   0   0   1   0   0   1   0   0   1   0   0   0\n",
       "2   1   0   0   0   1   0   0   0   0   1   0   1   0   0   0\n",
       "3   1   0   0   0   0   0   1   0   0   0   1   0   1   0   1\n",
       "4   1   0   0   1   0   0   0   1   0   0   0   0   0   1   0"
      ]
     },
     "execution_count": 7,
     "metadata": {},
     "output_type": "execute_result"
    }
   ],
   "source": [
    "#ubah data jadi biner\n",
    "enc = OneHotEncoder(sparse=False)\n",
    "datrain = enc.fit_transform(data).astype(int)\n",
    "datrain = np.delete(datrain,14,1)\n",
    "pd.DataFrame(datrain).head()"
   ]
  },
  {
   "cell_type": "code",
   "execution_count": 8,
   "metadata": {},
   "outputs": [],
   "source": [
    "# generate populasi dulu dri data latih (train)\n",
    "def generate_chromosome(n_population):\n",
    "    population = []\n",
    "    for i in range (n_population):\n",
    "        n_kromsom = rd.randint(1,10)*15\n",
    "        kromsom = rd.choices([0,1],k=n_kromsom) #1 gen\n",
    "        population.append(np.array(kromsom))\n",
    "    return population"
   ]
  },
  {
   "cell_type": "code",
   "execution_count": 9,
   "metadata": {},
   "outputs": [],
   "source": [
    "# test generate chromsome\n",
    "population = generate_chromosome(10)"
   ]
  },
  {
   "cell_type": "code",
   "execution_count": 10,
   "metadata": {},
   "outputs": [],
   "source": [
    "def fitnessKromosom(kromsom,data_train):\n",
    "    hitung = 0\n",
    "    array_rule = np.split(kromsom,round(len(kromsom)/15))\n",
    "    for data in data_train:\n",
    "        kategoriData = np.split(data, [3,7,11,14])\n",
    "        for rule in array_rule:\n",
    "            kategoriRule = np.split(rule, [3,7,11,14])\n",
    "            for i in range(5):\n",
    "                if np.any(np.logical_and(kategoriData[i],kategoriRule[i]))==False:\n",
    "                    break\n",
    "            if i == 4:\n",
    "                if(kategoriData[4] == kategoriRule[4]):\n",
    "                    hitung += 1\n",
    "                    break\n",
    "    return hitung/80*100"
   ]
  },
  {
   "cell_type": "code",
   "execution_count": 11,
   "metadata": {},
   "outputs": [],
   "source": [
    "def hitungfitness(populasi,data_train):\n",
    "    fit = []\n",
    "    for kromosom in populasi:\n",
    "        fit.append(fitnessKromosom(kromosom,data_train))\n",
    "    return fit"
   ]
  },
  {
   "cell_type": "code",
   "execution_count": 12,
   "metadata": {},
   "outputs": [],
   "source": [
    "populasi = generate_chromosome(10)\n",
    "fitness = hitungfitness(populasi,datrain)"
   ]
  },
  {
   "cell_type": "code",
   "execution_count": 13,
   "metadata": {
    "scrolled": true
   },
   "outputs": [
    {
     "data": {
      "text/plain": [
       "([array([0, 0, 1, 1, 0, 0, 1, 0, 0, 1, 1, 0, 0, 1, 0, 1, 0, 0, 0, 1, 0, 1,\n",
       "         0, 1, 0, 1, 1, 1, 0, 1]),\n",
       "  array([1, 1, 1, 0, 0, 1, 0, 1, 1, 0, 1, 0, 1, 1, 1, 1, 1, 1, 1, 1, 1, 0,\n",
       "         1, 0, 0, 1, 0, 0, 1, 1, 1, 1, 1, 1, 0, 1, 1, 1, 1, 0, 0, 1, 0, 0,\n",
       "         0, 0, 1, 1, 1, 1, 0, 1, 0, 0, 0, 0, 1, 0, 0, 0, 0, 0, 0, 0, 0, 1,\n",
       "         1, 0, 1, 0, 1, 1, 0, 1, 0, 0, 0, 1, 0, 0, 0, 1, 1, 0, 0, 1, 1, 0,\n",
       "         1, 1, 0, 1, 0, 0, 1, 0, 1, 1, 0, 1, 0, 1, 0, 0, 0, 1, 1, 0, 1, 0,\n",
       "         0, 0, 1, 1, 1, 0, 1, 1, 1, 1, 0, 0, 1, 1, 1, 1, 1, 0, 1, 1, 0, 0,\n",
       "         0, 1, 1, 0, 0, 0, 1, 0, 0, 0, 0, 0, 1, 0, 0, 0, 0, 0]),\n",
       "  array([0, 0, 1, 1, 0, 1, 1, 0, 0, 0, 0, 1, 0, 1, 1, 1, 1, 0, 0, 0, 0, 1,\n",
       "         1, 0, 1, 1, 1, 1, 0, 0, 1, 1, 1, 1, 0, 0, 0, 0, 0, 1, 0, 0, 0, 0,\n",
       "         0, 1, 1, 0, 0, 1, 1, 1, 0, 1, 1, 0, 1, 1, 1, 0, 1, 0, 0, 0, 1, 0,\n",
       "         0, 1, 0, 0, 0, 0, 0, 1, 1, 1, 0, 1, 0, 0, 1, 1, 1, 0, 1, 1, 0, 1,\n",
       "         0, 1, 0, 0, 0, 1, 0, 0, 1, 0, 1, 1, 1, 0, 1, 0, 0, 0, 0, 1, 1, 1,\n",
       "         1, 1, 0, 1, 1, 0, 0, 0, 1, 0]),\n",
       "  array([1, 0, 1, 0, 1, 0, 0, 1, 1, 1, 1, 1, 0, 1, 1, 1, 0, 0, 1, 0, 1, 1,\n",
       "         1, 0, 0, 1, 0, 1, 0, 1, 1, 0, 0, 1, 1, 1, 0, 1, 1, 0, 0, 1, 1, 1,\n",
       "         0, 0, 1, 0, 0, 1, 0, 0, 1, 0, 0, 0, 1, 1, 1, 1, 0, 1, 0, 1, 0, 1,\n",
       "         1, 0, 0, 1, 1, 1, 1, 0, 1, 0, 1, 1, 0, 1, 0, 0, 1, 1, 1, 1, 1, 0,\n",
       "         0, 1]),\n",
       "  array([1, 0, 0, 0, 1, 0, 1, 0, 0, 0, 1, 1, 0, 1, 0, 0, 1, 0, 1, 0, 1, 0,\n",
       "         0, 0, 0, 0, 1, 0, 1, 0, 0, 1, 0, 0, 0, 0, 1, 0, 1, 1, 1, 0, 1, 1,\n",
       "         0, 0, 1, 1, 1, 0, 1, 1, 0, 0, 0, 1, 1, 1, 1, 0, 0, 0, 0, 0, 1, 0,\n",
       "         0, 0, 1, 1, 1, 1, 0, 1, 1, 1, 0, 0, 0, 0, 0, 0, 1, 1, 1, 1, 1, 1,\n",
       "         0, 1, 1, 0, 1, 0, 0, 1, 1, 0, 0, 0, 0, 1, 0, 0, 0]),\n",
       "  array([0, 0, 0, 1, 1, 1, 1, 1, 0, 0, 0, 1, 1, 1, 0, 1, 0, 0, 1, 1, 0, 1,\n",
       "         1, 1, 0, 1, 1, 0, 0, 0, 0, 0, 1, 0, 1, 1, 1, 1, 0, 0, 1, 0, 0, 1,\n",
       "         0, 0, 1, 0, 0, 1, 0, 0, 0, 0, 0, 0, 0, 1, 0, 1, 1, 1, 0, 0, 1, 0,\n",
       "         1, 0, 1, 0, 0, 0, 0, 1, 1, 0, 1, 0, 1, 1, 0, 0, 1, 0, 0, 1, 0, 0,\n",
       "         0, 0]),\n",
       "  array([0, 1, 1, 1, 1, 0, 0, 0, 0, 1, 0, 0, 1, 0, 0]),\n",
       "  array([1, 0, 0, 1, 1, 0, 1, 1, 1, 1, 1, 1, 0, 0, 0, 0, 0, 1, 0, 1, 0, 0,\n",
       "         1, 1, 1, 1, 0, 1, 1, 1]),\n",
       "  array([0, 0, 1, 1, 0, 1, 0, 0, 0, 1, 1, 1, 0, 1, 0, 0, 0, 1, 0, 0, 1, 0,\n",
       "         0, 1, 0, 1, 0, 1, 1, 0, 1, 1, 1, 0, 0, 1, 0, 0, 0, 0, 1, 1, 0, 0,\n",
       "         0, 1, 1, 1, 1, 0, 1, 1, 1, 1, 0, 0, 0, 1, 0, 1, 1, 0, 0, 1, 0, 1,\n",
       "         0, 1, 1, 1, 1, 0, 1, 0, 0]),\n",
       "  array([1, 0, 1, 1, 1, 0, 1, 1, 0, 1, 1, 1, 1, 1, 0, 1, 1, 0, 0, 1, 1, 1,\n",
       "         0, 0, 0, 0, 0, 1, 0, 0, 1, 0, 1, 0, 1, 0, 0, 1, 1, 0, 1, 0, 1, 1,\n",
       "         0, 0, 0, 1, 1, 1, 1, 0, 0, 1, 0, 0, 0, 1, 1, 1, 1, 1, 1, 1, 1, 0,\n",
       "         1, 0, 0, 1, 1, 0, 1, 0, 0, 1, 0, 0, 1, 0, 1, 0, 1, 1, 0, 0, 0, 1,\n",
       "         0, 0, 0, 1, 0, 0, 0, 0, 0, 1, 1, 0, 1, 1, 0, 1, 0])],\n",
       " [3.75, 25.0, 25.0, 26.25, 11.25, 5.0, 1.25, 7.5, 12.5, 33.75])"
      ]
     },
     "execution_count": 13,
     "metadata": {},
     "output_type": "execute_result"
    }
   ],
   "source": [
    "populasi,fitness"
   ]
  },
  {
   "cell_type": "code",
   "execution_count": null,
   "metadata": {},
   "outputs": [],
   "source": [
    "kromsom = np.array([1,1,1,1,1,1,1,1,1,1,1,1,1,1,1,1,1,1,1,1,1,1,1,1,1,1,1,1,1,0])\n",
    "fitnessKromosom(kromsom,datrain)"
   ]
  },
  {
   "cell_type": "code",
   "execution_count": 15,
   "metadata": {},
   "outputs": [],
   "source": [
    "#seleksi ortu (turnamen selection)\n",
    "def tournamentselection(populasi,fit):\n",
    "    parent = []\n",
    "    kandidat = rd.sample(list(zip(populasi,fit)),rd.randint(1,len(populasi)))\n",
    "    kandidat = sorted(kandidat,key= lambda k:k[1],reverse=True)\n",
    "    return kandidat[0][0]"
   ]
  },
  {
   "cell_type": "code",
   "execution_count": 16,
   "metadata": {},
   "outputs": [
    {
     "data": {
      "text/plain": [
       "array([1, 0, 1, 1, 1, 0, 1, 1, 0, 1, 1, 1, 1, 1, 0, 1, 1, 0, 0, 1, 1, 1,\n",
       "       0, 0, 0, 0, 0, 1, 0, 0, 1, 0, 1, 0, 1, 0, 0, 1, 1, 0, 1, 0, 1, 1,\n",
       "       0, 0, 0, 1, 1, 1, 1, 0, 0, 1, 0, 0, 0, 1, 1, 1, 1, 1, 1, 1, 1, 0,\n",
       "       1, 0, 0, 1, 1, 0, 1, 0, 0, 1, 0, 0, 1, 0, 1, 0, 1, 1, 0, 0, 0, 1,\n",
       "       0, 0, 0, 1, 0, 0, 0, 0, 0, 1, 1, 0, 1, 1, 0, 1, 0])"
      ]
     },
     "execution_count": 16,
     "metadata": {},
     "output_type": "execute_result"
    }
   ],
   "source": [
    "tournamentselection(populasi,fitness)"
   ]
  },
  {
   "cell_type": "code",
   "execution_count": 17,
   "metadata": {},
   "outputs": [],
   "source": [
    "#crossover \n",
    "def crossover(parent1,parent2):\n",
    "    p1 = rd.randint(0,len(parent1))\n",
    "    p2 = rd.randint(0,len(parent1))\n",
    "    if p1 > p2:\n",
    "        p1,p2 = p2,p1\n",
    "    pp1 = p2 - p1     \n",
    "    gap = pp1 % 15    \n",
    "    kondisi1 = []\n",
    "    kondisi1.append(p1)\n",
    "    kondisi1.append(p1+pp1)\n",
    "    \n",
    "    kondisi2 = []\n",
    "    kondisi2.append(p1)\n",
    "    kondisi2.append(p1+gap)\n",
    "    \n",
    "    kondisi3 = []\n",
    "    kondisi3.append(abs(pp1-p2))\n",
    "    kondisi3.append(p2)\n",
    "    \n",
    "    kondisi4 = []\n",
    "    kondisi4.append(abs(gap-p2))\n",
    "    kondisi4.append(p2)\n",
    "    \n",
    "    pp2 = []\n",
    "    pp2.append(kondisi1)\n",
    "    pp2.append(kondisi2)\n",
    "    pp2.append(kondisi3)\n",
    "    pp2.append(kondisi4)\n",
    "    \n",
    "    variabelrandomP2 = rd.randint(0,3)\n",
    "    \n",
    "    temp1 = []\n",
    "    if p1 < p2:\n",
    "        for i in range(p1,p2):\n",
    "            temp1.append(parent1[p1])\n",
    "    elif p2 < p1:\n",
    "        for i in range(p2,p1):\n",
    "            temp1.append(parent1[p2])\n",
    "            \n",
    "    varianTerpilih = pp2[variabelrandomP2]\n",
    "    \n",
    "    if varianTerpilih[1]>len(parent2):\n",
    "        p3 = rd.randint(0,len(parent2)-gap)\n",
    "        kondisi5 = []\n",
    "        kondisi5.append(p3)\n",
    "        kondisi5.append(p3+gap)\n",
    "        varianTerpilih = kondisi5\n",
    "        \n",
    "    temp2 = []\n",
    "    if varianTerpilih[0] < varianTerpilih[1]:\n",
    "        for i in range(varianTerpilih[0],varianTerpilih[1]):\n",
    "            temp2.append(parent2[i])\n",
    "    elif varianTerpilih[1] < varianTerpilih[0]:\n",
    "        for i in range (varianTerpilih[1],varianTerpilih[0]):\n",
    "            temp2.append(parent2[i])\n",
    "            \n",
    "    \n",
    "    \n",
    "    #crossover\n",
    "    prob = 1\n",
    "    if prob >= np.random.uniform(0,1):\n",
    "        parent1 = np.delete(parent1, range(p1,p2))\n",
    "        parent1 = np.insert(parent1,p1,temp2)\n",
    "        parent2 = np.delete(parent2,range(varianTerpilih[0],varianTerpilih[1]))\n",
    "        parent2 = np.insert(parent2, varianTerpilih[0],temp1)\n",
    "        \n",
    "    return parent1, parent2"
   ]
  },
  {
   "cell_type": "raw",
   "metadata": {},
   "source": []
  },
  {
   "cell_type": "code",
   "execution_count": 18,
   "metadata": {},
   "outputs": [
    {
     "name": "stdout",
     "output_type": "stream",
     "text": [
      "[ 0.  0.  0.  0.  0.  0.  0.  0.  0.  0.  0.  0.  0.  0.  0.  3.  4.  5.\n",
      "  6.  7.  8.  9. 10. 11. 12. 13. 14.  0.  0.  0.]\n",
      "[0 1 2 0 0 0 0 0 0 0 0 0 0 0 0 0 0 0 0 0 0 0 0 0 0 0 0 0 0 0]\n"
     ]
    },
    {
     "data": {
      "text/plain": [
       "(30, 30)"
      ]
     },
     "execution_count": 18,
     "metadata": {},
     "output_type": "execute_result"
    }
   ],
   "source": [
    "#test crossover\n",
    "a = np.zeros(45)\n",
    "b = np.arange(0,15)\n",
    "a,b = crossover(a,b)\n",
    "print(a,b,sep='\\n')\n",
    "len(a),len(b)"
   ]
  },
  {
   "cell_type": "code",
   "execution_count": null,
   "metadata": {},
   "outputs": [],
   "source": []
  },
  {
   "cell_type": "code",
   "execution_count": 22,
   "metadata": {
    "scrolled": false
   },
   "outputs": [],
   "source": [
    "#mutasi\n",
    "def mutasi(kromsom, prbmutasi):\n",
    "    for i in range(len(kromsom)):\n",
    "        if prbmutasi >= np.random.uniform(0,1):\n",
    "            ambilNilai = rd.randint(0,1)\n",
    "            kromsom[i] = ambilNilai\n",
    "    return kromsom\n",
    "        "
   ]
  },
  {
   "cell_type": "code",
   "execution_count": 23,
   "metadata": {},
   "outputs": [
    {
     "ename": "NameError",
     "evalue": "name 'kromsom' is not defined",
     "output_type": "error",
     "traceback": [
      "\u001b[1;31m---------------------------------------------------------------------------\u001b[0m",
      "\u001b[1;31mNameError\u001b[0m                                 Traceback (most recent call last)",
      "\u001b[1;32m<ipython-input-23-32009e3e1a37>\u001b[0m in \u001b[0;36m<module>\u001b[1;34m\u001b[0m\n\u001b[0;32m      1\u001b[0m \u001b[0mprbmutasi\u001b[0m \u001b[1;33m=\u001b[0m \u001b[1;36m0.1\u001b[0m\u001b[1;33m\u001b[0m\u001b[1;33m\u001b[0m\u001b[0m\n\u001b[1;32m----> 2\u001b[1;33m \u001b[0mmutasi\u001b[0m\u001b[1;33m(\u001b[0m\u001b[0mkromsom\u001b[0m\u001b[1;33m,\u001b[0m\u001b[0mprbmutasi\u001b[0m\u001b[1;33m)\u001b[0m\u001b[1;33m\u001b[0m\u001b[1;33m\u001b[0m\u001b[0m\n\u001b[0m",
      "\u001b[1;31mNameError\u001b[0m: name 'kromsom' is not defined"
     ]
    }
   ],
   "source": [
    "prbmutasi = 0.1\n",
    "mutasi(kromsom,prbmutasi)"
   ]
  },
  {
   "cell_type": "code",
   "execution_count": 24,
   "metadata": {},
   "outputs": [],
   "source": [
    "def elitisme(populasi,fitness):\n",
    "    temp = zip(populasi,fitness)\n",
    "    temp = sorted(temp,key= lambda k:k[1],reverse=True)\n",
    "    return [temp[0][0],temp[1][0]]"
   ]
  },
  {
   "cell_type": "code",
   "execution_count": 25,
   "metadata": {},
   "outputs": [
    {
     "data": {
      "text/plain": [
       "[array([1, 0, 1, 1, 1, 0, 1, 1, 0, 1, 1, 1, 1, 1, 0, 1, 1, 0, 0, 1, 1, 1,\n",
       "        0, 0, 0, 0, 0, 1, 0, 0, 1, 0, 1, 0, 1, 0, 0, 1, 1, 0, 1, 0, 1, 1,\n",
       "        0, 0, 0, 1, 1, 1, 1, 0, 0, 1, 0, 0, 0, 1, 1, 1, 1, 1, 1, 1, 1, 0,\n",
       "        1, 0, 0, 1, 1, 0, 1, 0, 0, 1, 0, 0, 1, 0, 1, 0, 1, 1, 0, 0, 0, 1,\n",
       "        0, 0, 0, 1, 0, 0, 0, 0, 0, 1, 1, 0, 1, 1, 0, 1, 0]),\n",
       " array([1, 0, 1, 0, 1, 0, 0, 1, 1, 1, 1, 1, 0, 1, 1, 1, 0, 0, 1, 0, 1, 1,\n",
       "        1, 0, 0, 1, 0, 1, 0, 1, 1, 0, 0, 1, 1, 1, 0, 1, 1, 0, 0, 1, 1, 1,\n",
       "        0, 0, 1, 0, 0, 1, 0, 0, 1, 0, 0, 0, 1, 1, 1, 1, 0, 1, 0, 1, 0, 1,\n",
       "        1, 0, 0, 1, 1, 1, 1, 0, 1, 0, 1, 1, 0, 1, 0, 0, 1, 1, 1, 1, 1, 0,\n",
       "        0, 1])]"
      ]
     },
     "execution_count": 25,
     "metadata": {},
     "output_type": "execute_result"
    }
   ],
   "source": [
    "elitisme(populasi,fitness)"
   ]
  },
  {
   "cell_type": "code",
   "execution_count": null,
   "metadata": {},
   "outputs": [],
   "source": []
  },
  {
   "cell_type": "code",
   "execution_count": 284,
   "metadata": {},
   "outputs": [],
   "source": [
    "def prediksi(kromsom,data_uji):\n",
    "    prdk = False\n",
    "    array_rule = np.split(kromsom,round(len(kromsom)/15))\n",
    "    for data in data_uji:\n",
    "        kategoriData = np.split(data, [3,7,11,14])\n",
    "        for rule in array_rule:\n",
    "            kategoriRule = np.split(rule, [3,7,11,14])\n",
    "            for i in range(5):\n",
    "                if np.any(np.logical_and(kategoriData[i],kategoriRule[i]))==False:\n",
    "                    break\n",
    "            if i == 4:\n",
    "                prdk = np.logical_or(kategoriData[u],kategoriRule[i])# mengeck terakhir\n",
    "                break\n",
    "    return prdk"
   ]
  },
  {
   "cell_type": "code",
   "execution_count": 241,
   "metadata": {},
   "outputs": [],
   "source": [
    "data = pd.read_csv('data_latih_opsi_2.csv',header=None,names=['Suhu','Waktu','Kondisi_Langit','Kelembapan','Terbang/Tidak']) ## Baca dataset"
   ]
  },
  {
   "cell_type": "code",
   "execution_count": 240,
   "metadata": {},
   "outputs": [],
   "source": [
    "A,B = data.drop(['Terbang/Tidak'],axis=1),data['Terbang/Tidak'] "
   ]
  },
  {
   "cell_type": "code",
   "execution_count": null,
   "metadata": {},
   "outputs": [],
   "source": [
    "def main(A, B, generasi,n_population):\n",
    "    populasi = generate_chromosome(n_population)\n",
    "    fitness = hitungfitness(populasi,datrain)\n",
    "    populasi.sort(key= lambda k:k[1],reverse=True)  \n",
    "    for i in range(generasi): \n",
    "        new_pop = elitisme(populasi,fitness) \n",
    "        for j in range(n_population//2): \n",
    "            parent1 = tournamentselection(populasi,fitness)\n",
    "            parent2 = tournamentselection(populasi,fitness)\n",
    "            anak = crossover(parent1,parent2) \n",
    "            new_pop.extend(anak)        \n",
    "        for j in range(1,len(new_pop)): \n",
    "            mutasi(new_pop[j],prbmutasi) \n",
    "            hitungfitness(new_pop,datrain) \n",
    "        populasi = new_pop \n",
    "        populasi.sort(key= lambda k:k[1],reverse=True) \n",
    "    return populasi[0] "
   ]
  },
  {
   "cell_type": "code",
   "execution_count": 281,
   "metadata": {
    "scrolled": true
   },
   "outputs": [],
   "source": [
    "z = main(A,B,20,20)"
   ]
  },
  {
   "cell_type": "code",
   "execution_count": 349,
   "metadata": {},
   "outputs": [],
   "source": [
    "#prediks\n",
    "data_uji = pd.read_csv('data_uji_opsi_2.csv',header=None,names=['Suhu','Waktu','Kondisi_Langit','Kelembapan','Terbang/Tidak'])\n",
    "dat_uji = data_uji.drop(['Terbang/Tidak'],axis=1)\n",
    "prdk = prediksi(z,dat_uji)\n",
    "prdk.astype(int)\n",
    "np.savetxt('HasilUji.txt',prdk,fmt='%.0d')"
   ]
  },
  {
   "cell_type": "code",
   "execution_count": null,
   "metadata": {},
   "outputs": [],
   "source": []
  },
  {
   "cell_type": "code",
   "execution_count": null,
   "metadata": {},
   "outputs": [],
   "source": []
  },
  {
   "cell_type": "code",
   "execution_count": 149,
   "metadata": {},
   "outputs": [],
   "source": []
  },
  {
   "cell_type": "code",
   "execution_count": null,
   "metadata": {},
   "outputs": [],
   "source": []
  },
  {
   "cell_type": "code",
   "execution_count": null,
   "metadata": {},
   "outputs": [],
   "source": []
  },
  {
   "cell_type": "code",
   "execution_count": null,
   "metadata": {},
   "outputs": [],
   "source": []
  },
  {
   "cell_type": "code",
   "execution_count": null,
   "metadata": {},
   "outputs": [],
   "source": []
  }
 ],
 "metadata": {
  "kernelspec": {
   "display_name": "Python 3",
   "language": "python",
   "name": "python3"
  },
  "language_info": {
   "codemirror_mode": {
    "name": "ipython",
    "version": 3
   },
   "file_extension": ".py",
   "mimetype": "text/x-python",
   "name": "python",
   "nbconvert_exporter": "python",
   "pygments_lexer": "ipython3",
   "version": "3.7.3"
  }
 },
 "nbformat": 4,
 "nbformat_minor": 4
}
