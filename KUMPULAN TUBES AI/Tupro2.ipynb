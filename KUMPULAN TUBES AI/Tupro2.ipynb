{
 "cells": [
  {
   "cell_type": "code",
   "execution_count": 1,
   "metadata": {
    "colab": {},
    "colab_type": "code",
    "id": "kv4sysX8gEXd"
   },
   "outputs": [],
   "source": [
    "import random\n",
    "import pandas as pd\n",
    "import math"
   ]
  },
  {
   "cell_type": "code",
   "execution_count": 7,
   "metadata": {
    "colab": {},
    "colab_type": "code",
    "id": "Hb1Ij5HQk_LB"
   },
   "outputs": [
    {
     "name": "stdout",
     "output_type": "stream",
     "text": [
      "   Suhu,Waktu,Kondisi Langit,Kelembapan,Terbang/Tidak\n",
      "0                   Normal,Siang,Berawan,Normal,Tidak\n",
      "1                     Normal,Siang,Cerah,Normal,Tidak\n",
      "2                      Normal,Pagi,Hujan,Normal,Tidak\n",
      "3                        Normal,Sore,Rintik,Rendah,Ya\n",
      "4                   Normal,Malam,Berawan,Tinggi,Tidak\n",
      "5                        Normal,Malam,Cerah,Normal,Ya\n",
      "6                         Normal,Pagi,Cerah,Rendah,Ya\n",
      "7                   Normal,Siang,Berawan,Rendah,Tidak\n",
      "8                      Normal,Sore,Hujan,Normal,Tidak\n",
      "9                       Normal,Siang,Rintik,Rendah,Ya\n",
      "10                   Normal,Sore,Berawan,Tinggi,Tidak\n",
      "11                     Normal,Sore,Cerah,Rendah,Tidak\n",
      "12                      Normal,Pagi,Berawan,Normal,Ya\n",
      "13                       Normal,Malam,Hujan,Rendah,Ya\n",
      "14                     Normal,Pagi,Cerah,Normal,Tidak\n",
      "15                    Normal,Pagi,Rintik,Normal,Tidak\n",
      "16                  Normal,Malam,Berawan,Rendah,Tidak\n",
      "17                    Normal,Siang,Hujan,Tinggi,Tidak\n",
      "18                       Normal,Pagi,Rintik,Tinggi,Ya\n",
      "19                    Normal,Siang,Hujan,Rendah,Tidak\n",
      "20                      Normal,Malam,Rintik,Rendah,Ya\n",
      "21                    Normal,Pagi,Rintik,Rendah,Tidak\n",
      "22                     Normal,Sore,Hujan,Tinggi,Tidak\n",
      "23                    Normal,Malam,Hujan,Tinggi,Tidak\n",
      "24                   Rendah,Sore,Berawan,Tinggi,Tidak\n",
      "25                      Rendah,Pagi,Berawan,Rendah,Ya\n",
      "26                     Rendah,Siang,Berawan,Rendah,Ya\n",
      "27                       Rendah,Pagi,Rintik,Normal,Ya\n",
      "28                    Rendah,Malam,Hujan,Tinggi,Tidak\n",
      "29                      Rendah,Siang,Rintik,Normal,Ya\n",
      "..                                                ...\n",
      "50                      Rendah,Pagi,Berawan,Tinggi,Ya\n",
      "51                    Rendah,Sore,Rintik,Tinggi,Tidak\n",
      "52                      Rendah,Siang,Rintik,Rendah,Ya\n",
      "53                        Rendah,Pagi,Cerah,Normal,Ya\n",
      "54                     Rendah,Malam,Berawan,Normal,Ya\n",
      "55                      Tinggi,Sore,Berawan,Rendah,Ya\n",
      "56                        Tinggi,Pagi,Cerah,Rendah,Ya\n",
      "57                       Tinggi,Siang,Cerah,Tinggi,Ya\n",
      "58                     Tinggi,Siang,Berawan,Tinggi,Ya\n",
      "59                    Tinggi,Siang,Hujan,Tinggi,Tidak\n",
      "60                   Tinggi,Pagi,Berawan,Tinggi,Tidak\n",
      "61                        Tinggi,Pagi,Hujan,Normal,Ya\n",
      "62                       Tinggi,Siang,Cerah,Normal,Ya\n",
      "63                      Tinggi,Pagi,Berawan,Normal,Ya\n",
      "64                    Tinggi,Sore,Rintik,Rendah,Tidak\n",
      "65                        Tinggi,Sore,Cerah,Rendah,Ya\n",
      "66                    Tinggi,Pagi,Rintik,Rendah,Tidak\n",
      "67                   Tinggi,Sore,Berawan,Normal,Tidak\n",
      "68                     Tinggi,Pagi,Cerah,Tinggi,Tidak\n",
      "69                     Tinggi,Sore,Cerah,Normal,Tidak\n",
      "70                    Tinggi,Malam,Hujan,Tinggi,Tidak\n",
      "71                       Tinggi,Sore,Rintik,Tinggi,Ya\n",
      "72                    Tinggi,Malam,Hujan,Normal,Tidak\n",
      "73                   Tinggi,Malam,Rintik,Normal,Tidak\n",
      "74                     Tinggi,Sore,Hujan,Rendah,Tidak\n",
      "75                     Tinggi,Pagi,Hujan,Rendah,Tidak\n",
      "76                      Tinggi,Pagi,Berawan,Rendah,Ya\n",
      "77                  Tinggi,Malam,Berawan,Normal,Tidak\n",
      "78                      Tinggi,Malam,Rintik,Rendah,Ya\n",
      "79                  Tinggi,Malam,Berawan,Tinggi,Tidak\n",
      "\n",
      "[80 rows x 1 columns]\n"
     ]
    }
   ],
   "source": [
    "df = pd.read_csv(\"Data Latih.csv\", sep=\";\")\n",
    "print(df)"
   ]
  },
  {
   "cell_type": "code",
   "execution_count": 8,
   "metadata": {
    "colab": {},
    "colab_type": "code",
    "id": "_CTH8nArl59w"
   },
   "outputs": [],
   "source": [
    "SUHU = ['Rendah', 'Normal', 'Tinggi']\n",
    "WAKTU = ['Pagi', 'Siang', 'Sore', 'Malam']\n",
    "KONDISI = ['Cerah', 'Berawan', 'Rintik', 'Hujan'] \n",
    "KELEMBAPAN = ['Rendah', 'Normal', 'Tinggi']\n",
    "TERBANG = ['Ya']"
   ]
  },
  {
   "cell_type": "code",
   "execution_count": 9,
   "metadata": {
    "colab": {
     "base_uri": "https://localhost:8080/",
     "height": 231
    },
    "colab_type": "code",
    "id": "m-iOOEDpnR4r",
    "outputId": "69669a48-3cc0-449a-ffa1-f4587f4d91c7"
   },
   "outputs": [
    {
     "name": "stdout",
     "output_type": "stream",
     "text": [
      "[['Normal,Siang,Berawan,Normal,Tidak']\n",
      " ['Normal,Siang,Cerah,Normal,Tidak']\n",
      " ['Normal,Pagi,Hujan,Normal,Tidak']\n",
      " ['Normal,Sore,Rintik,Rendah,Ya']\n",
      " ['Normal,Malam,Berawan,Tinggi,Tidak']\n",
      " ['Normal,Malam,Cerah,Normal,Ya']\n",
      " ['Normal,Pagi,Cerah,Rendah,Ya']\n",
      " ['Normal,Siang,Berawan,Rendah,Tidak']\n",
      " ['Normal,Sore,Hujan,Normal,Tidak']\n",
      " ['Normal,Siang,Rintik,Rendah,Ya']\n",
      " ['Normal,Sore,Berawan,Tinggi,Tidak']\n",
      " ['Normal,Sore,Cerah,Rendah,Tidak']\n",
      " ['Normal,Pagi,Berawan,Normal,Ya']\n",
      " ['Normal,Malam,Hujan,Rendah,Ya']\n",
      " ['Normal,Pagi,Cerah,Normal,Tidak']\n",
      " ['Normal,Pagi,Rintik,Normal,Tidak']\n",
      " ['Normal,Malam,Berawan,Rendah,Tidak']\n",
      " ['Normal,Siang,Hujan,Tinggi,Tidak']\n",
      " ['Normal,Pagi,Rintik,Tinggi,Ya']\n",
      " ['Normal,Siang,Hujan,Rendah,Tidak']\n",
      " ['Normal,Malam,Rintik,Rendah,Ya']\n",
      " ['Normal,Pagi,Rintik,Rendah,Tidak']\n",
      " ['Normal,Sore,Hujan,Tinggi,Tidak']\n",
      " ['Normal,Malam,Hujan,Tinggi,Tidak']\n",
      " ['Rendah,Sore,Berawan,Tinggi,Tidak']\n",
      " ['Rendah,Pagi,Berawan,Rendah,Ya']\n",
      " ['Rendah,Siang,Berawan,Rendah,Ya']\n",
      " ['Rendah,Pagi,Rintik,Normal,Ya']\n",
      " ['Rendah,Malam,Hujan,Tinggi,Tidak']\n",
      " ['Rendah,Siang,Rintik,Normal,Ya']\n",
      " ['Rendah,Sore,Hujan,Rendah,Tidak']\n",
      " ['Rendah,Pagi,Cerah,Rendah,Ya']\n",
      " ['Rendah,Sore,Cerah,Rendah,Tidak']\n",
      " ['Rendah,Malam,Rintik,Rendah,Tidak']\n",
      " ['Rendah,Malam,Berawan,Tinggi,Ya']\n",
      " ['Rendah,Sore,Rintik,Rendah,Tidak']\n",
      " ['Rendah,Sore,Berawan,Normal,Ya']\n",
      " ['Rendah,Siang,Hujan,Normal,Ya']\n",
      " ['Rendah,Pagi,Rintik,Tinggi,Ya']\n",
      " ['Rendah,Sore,Hujan,Tinggi,Tidak']\n",
      " ['Rendah,Pagi,Hujan,Normal,Ya']\n",
      " ['Rendah,Siang,Cerah,Normal,Ya']\n",
      " ['Rendah,Pagi,Hujan,Tinggi,Ya']\n",
      " ['Rendah,Malam,Cerah,Normal,Ya']\n",
      " ['Rendah,Pagi,Hujan,Rendah,Ya']\n",
      " ['Rendah,Pagi,Rintik,Rendah,Ya']\n",
      " ['Rendah,Siang,Berawan,Normal,Ya']\n",
      " ['Rendah,Sore,Hujan,Normal,Tidak']\n",
      " ['Rendah,Pagi,Cerah,Tinggi,Ya']\n",
      " ['Rendah,Siang,Hujan,Rendah,Tidak']\n",
      " ['Rendah,Pagi,Berawan,Tinggi,Ya']\n",
      " ['Rendah,Sore,Rintik,Tinggi,Tidak']\n",
      " ['Rendah,Siang,Rintik,Rendah,Ya']\n",
      " ['Rendah,Pagi,Cerah,Normal,Ya']\n",
      " ['Rendah,Malam,Berawan,Normal,Ya']\n",
      " ['Tinggi,Sore,Berawan,Rendah,Ya']\n",
      " ['Tinggi,Pagi,Cerah,Rendah,Ya']\n",
      " ['Tinggi,Siang,Cerah,Tinggi,Ya']\n",
      " ['Tinggi,Siang,Berawan,Tinggi,Ya']\n",
      " ['Tinggi,Siang,Hujan,Tinggi,Tidak']\n",
      " ['Tinggi,Pagi,Berawan,Tinggi,Tidak']\n",
      " ['Tinggi,Pagi,Hujan,Normal,Ya']\n",
      " ['Tinggi,Siang,Cerah,Normal,Ya']\n",
      " ['Tinggi,Pagi,Berawan,Normal,Ya']\n",
      " ['Tinggi,Sore,Rintik,Rendah,Tidak']\n",
      " ['Tinggi,Sore,Cerah,Rendah,Ya']\n",
      " ['Tinggi,Pagi,Rintik,Rendah,Tidak']\n",
      " ['Tinggi,Sore,Berawan,Normal,Tidak']\n",
      " ['Tinggi,Pagi,Cerah,Tinggi,Tidak']\n",
      " ['Tinggi,Sore,Cerah,Normal,Tidak']\n",
      " ['Tinggi,Malam,Hujan,Tinggi,Tidak']\n",
      " ['Tinggi,Sore,Rintik,Tinggi,Ya']\n",
      " ['Tinggi,Malam,Hujan,Normal,Tidak']\n",
      " ['Tinggi,Malam,Rintik,Normal,Tidak']\n",
      " ['Tinggi,Sore,Hujan,Rendah,Tidak']\n",
      " ['Tinggi,Pagi,Hujan,Rendah,Tidak']\n",
      " ['Tinggi,Pagi,Berawan,Rendah,Ya']\n",
      " ['Tinggi,Malam,Berawan,Normal,Tidak']\n",
      " ['Tinggi,Malam,Rintik,Rendah,Ya']\n",
      " ['Tinggi,Malam,Berawan,Tinggi,Tidak']]\n"
     ]
    }
   ],
   "source": [
    "bit_count = 15\n",
    "data = df.values\n",
    "print(data)"
   ]
  },
  {
   "cell_type": "code",
   "execution_count": 10,
   "metadata": {
    "colab": {},
    "colab_type": "code",
    "id": "gdGviLitndBd"
   },
   "outputs": [],
   "source": [
    "def checkrule(kolom, rule, value):\n",
    "  i = kolom.index(value)\n",
    "  return rule[i] == 1"
   ]
  },
  {
   "cell_type": "code",
   "execution_count": 11,
   "metadata": {
    "colab": {},
    "colab_type": "code",
    "id": "fth-SOqqoljg"
   },
   "outputs": [
    {
     "name": "stdout",
     "output_type": "stream",
     "text": [
      "True\n"
     ]
    }
   ],
   "source": [
    "# Tes Check rule\n",
    "print(checkrule(SUHU, [1, 0, 0], 'Rendah'))"
   ]
  },
  {
   "cell_type": "code",
   "execution_count": 12,
   "metadata": {
    "colab": {},
    "colab_type": "code",
    "id": "yDLaoywkouBF"
   },
   "outputs": [],
   "source": [
    "def gen_population(count):\n",
    "  populations = []\n",
    "  for i in range(count):\n",
    "    chromosome = []\n",
    "    for b in range(bit_count):\n",
    "      chromosome.append(random.randint(0, 1))\n",
    "    populations.append(chromosome)\n",
    "  \n",
    "  return populations"
   ]
  },
  {
   "cell_type": "code",
   "execution_count": 13,
   "metadata": {
    "colab": {},
    "colab_type": "code",
    "id": "8SUnJu7HqA-9"
   },
   "outputs": [],
   "source": [
    "# choromosome_count = 5\n",
    "# populations = gen_population(choromosome_count)\n",
    "# populations"
   ]
  },
  {
   "cell_type": "code",
   "execution_count": 35,
   "metadata": {
    "colab": {},
    "colab_type": "code",
    "id": "_tMv4kdOrkHA"
   },
   "outputs": [],
   "source": [
    "def split_chromosome(l, n):\n",
    "  return [l[i:i + n] for i in range(0, len(l), n)]"
   ]
  },
  {
   "cell_type": "code",
   "execution_count": 44,
   "metadata": {
    "colab": {},
    "colab_type": "code",
    "id": "o_3UaeoLqCg8"
   },
   "outputs": [],
   "source": [
    "def predict(chromosome, data):\n",
    "  rules = split_chromosome(chromosome, bit_count)\n",
    "  for rule in rules:\n",
    "    suhu_enc = rule[0:3]\n",
    "    waktu_enc = rule[3:7]\n",
    "    kond_enc = rule[7:11]\n",
    "    kel_enc = rule[11:14]\n",
    "    terbang_enc = rule[14]\n",
    "\n",
    "    if checkrule(SUHU, suhu_enc, data[0]) and checkrule(WAKTU, waktu_enc, data[1]) and checkrule(KONDISI, kond_enc, data[2]) and checkrule(KELEMBAPAN, kel_enc, data[3]):\n",
    "      if terbang_enc == 1:\n",
    "        return 'Ya'\n",
    "      else:\n",
    "        return 'Tidak'\n",
    "  return '-'"
   ]
  },
  {
   "cell_type": "code",
   "execution_count": 45,
   "metadata": {
    "colab": {
     "base_uri": "https://localhost:8080/",
     "height": 34
    },
    "colab_type": "code",
    "id": "hq6NE_KTqvl1",
    "outputId": "d21171f3-1723-4bd6-c2af-28b8e623183a"
   },
   "outputs": [
    {
     "name": "stdout",
     "output_type": "stream",
     "text": [
      "-\n"
     ]
    }
   ],
   "source": [
    "chromosome = [1, 0, 0, 1, 0, 0, 0, 1, 0, 0, 0, 1, 0, 0, 0]\n",
    "print(predict(chromosome, ['Rendah', 'Siang', 'Cerah', 'Rendah']))"
   ]
  },
  {
   "cell_type": "code",
   "execution_count": 43,
   "metadata": {
    "colab": {},
    "colab_type": "code",
    "id": "ZE_KTTHlrEbB"
   },
   "outputs": [],
   "source": [
    "def fitness(populations):\n",
    "  result = []\n",
    "  for i in range(choromosome_count):\n",
    "    chromosome = populations[i]\n",
    "    true_predict = 0\n",
    "    for d in data:\n",
    "      hasil = predict(chromosome, d)\n",
    "      if hasil == d[4]:\n",
    "        true_predict += 1\n",
    "    result.append({\n",
    "        'index': i,\n",
    "        'fit': true_predict / len(data)\n",
    "    })\n",
    "  return result"
   ]
  },
  {
   "cell_type": "code",
   "execution_count": 46,
   "metadata": {
    "colab": {},
    "colab_type": "code",
    "id": "m9c15MVLt7VO"
   },
   "outputs": [],
   "source": [
    "def get_parrent(populations, fit_res):\n",
    "  sorted_fit = sorted(fit_res, key=lambda x: x['fit'], reverse=True) \n",
    "  parent1 = populations[sorted_fit[0]['index']]\n",
    "  parent2 = populations[sorted_fit[1]['index']]\n",
    "  return parent1, parent2"
   ]
  },
  {
   "cell_type": "code",
   "execution_count": 47,
   "metadata": {
    "colab": {},
    "colab_type": "code",
    "id": "k06uBMKRxl9q"
   },
   "outputs": [],
   "source": [
    "def rounddown(n):\n",
    "    return (n // bit_count) * bit_count"
   ]
  },
  {
   "cell_type": "code",
   "execution_count": 48,
   "metadata": {
    "colab": {},
    "colab_type": "code",
    "id": "4DfTpyfXDCxB"
   },
   "outputs": [],
   "source": [
    "def roundup(n):\n",
    "    x = (n/bit_count)\n",
    "    x = math.ceil(x)*bit_count\n",
    "    return x"
   ]
  },
  {
   "cell_type": "code",
   "execution_count": 49,
   "metadata": {
    "colab": {
     "base_uri": "https://localhost:8080/",
     "height": 34
    },
    "colab_type": "code",
    "id": "6HU9RX1bDKdq",
    "outputId": "5a9cccf1-4fa3-48e4-aa81-40be09367b19"
   },
   "outputs": [
    {
     "name": "stdout",
     "output_type": "stream",
     "text": [
      "45\n"
     ]
    }
   ],
   "source": [
    "print(roundup(43))"
   ]
  },
  {
   "cell_type": "code",
   "execution_count": 50,
   "metadata": {
    "colab": {},
    "colab_type": "code",
    "id": "Xi8YPW4muzlR"
   },
   "outputs": [],
   "source": [
    "def crossover(parrent, p = 0.8):\n",
    "  p1, p2 = parrent\n",
    "  \n",
    "  prob = random.uniform(0, 1)\n",
    "  if prob > p:\n",
    "    return [p1[:], p2[:]]\n",
    "  \n",
    "  if len(p1) > len(p2):\n",
    "    p1, p2 = p2, p1\n",
    "\n",
    "  p1_s = [\n",
    "          random.randint(0, len(p1)//2), \n",
    "          random.randint(len(p1)//2, len(p1))\n",
    "        ]\n",
    "\n",
    "  p2_arr = []\n",
    "\n",
    "  p1_length = p1_s[1] - p1_s[0]\n",
    "  p1_gap = p1_length % bit_count\n",
    "\n",
    "  # Varian 1\n",
    "  p2_1 = [p1_s[0], p1_s[0] + p1_length]\n",
    "  if p2_1 not in p2_arr:\n",
    "    p2_arr.append(p2_1)\n",
    "  \n",
    "  # Varian 2\n",
    "  p2_2 = [p1_s[0], p1_s[0] + p1_gap]\n",
    "  if p2_2 not in p2_arr:\n",
    "    p2_arr.append(p2_2)\n",
    "  \n",
    "  # Varian 3\n",
    "  p2_3 = [p1_s[1] - p1_length, p1_s[1]]\n",
    "  if p2_3 not in p2_arr:\n",
    "    p2_arr.append(p2_3)\n",
    "\n",
    "  # Varian 4  \n",
    "  p2_4 = [p1_s[1] - p1_gap, p1_s[1]]\n",
    "  if p2_4 not in p2_arr:\n",
    "    p2_arr.append(p2_4)\n",
    "\n",
    "  selected_index = random.randint(0, len(p2_arr)-1)\n",
    "  p2_s = p2_arr[selected_index]\n",
    "  \n",
    "  # Child 1\n",
    "  kiri = p1[rounddown(p2_s[0]):p2_s[0]]\n",
    "  tengah = p2[p2_s[0]:p2_s[1]]\n",
    "  kanan = p1[p2_s[1]:roundup(p2_s[1])]\n",
    "  child1 = kiri + tengah + kanan\n",
    "\n",
    "  # Child 2\n",
    "  kiri = p2[0:p2_s[0]]\n",
    "  tengah = p1[p1_s[0]:p1_s[1]]\n",
    "  kanan = p2[p2_s[1]:]\n",
    "\n",
    "  child2 = kiri + tengah + kanan\n",
    "\n",
    "  return [child1, child2]"
   ]
  },
  {
   "cell_type": "code",
   "execution_count": 51,
   "metadata": {
    "colab": {},
    "colab_type": "code",
    "id": "Ht3xkyWyu-Zd"
   },
   "outputs": [],
   "source": [
    "def mutation(child, p = 0.2):\n",
    "  for i in range(len(child[0])):\n",
    "    prob = random.uniform(0, 1)\n",
    "    if prob < p:\n",
    "      if child[0][i] == 0:\n",
    "        child[0][i] = 1\n",
    "      else:\n",
    "        child[0][i] = 0\n",
    "\n",
    "  for i in range(len(child[1])):\n",
    "    prob = random.uniform(0, 1)\n",
    "    if prob < p:\n",
    "      if child[1][i] == 0:\n",
    "        child[1][i] = 1\n",
    "      else:\n",
    "        child[1][i] = 0\n",
    "    \n",
    "  return child"
   ]
  },
  {
   "cell_type": "code",
   "execution_count": 52,
   "metadata": {
    "colab": {},
    "colab_type": "code",
    "id": "ypiZ8WU40UwM"
   },
   "outputs": [],
   "source": [
    "def survivor_selecton(populasi, fit_res, child):\n",
    "  \"\"\"\n",
    "  Akan menghasilkan populasi baru dari parameter populasi, berdasarkan fit_res\n",
    "  \"\"\"\n",
    "  sorted_fit = sorted(fit_res, key=lambda x: x['fit'], reverse=True)\n",
    "  i1 = sorted_fit[len(sorted_fit)-1]['index']\n",
    "  i2 = sorted_fit[len(sorted_fit)-2]['index']\n",
    "  populasi[i1] = child[0]\n",
    "  populasi[i2] = child[1]\n",
    "  return populasi"
   ]
  },
  {
   "cell_type": "code",
   "execution_count": 34,
   "metadata": {
    "colab": {
     "base_uri": "https://localhost:8080/",
     "height": 185
    },
    "colab_type": "code",
    "id": "fihwRSKo0l-t",
    "outputId": "3ceeb2b2-57fd-4bdc-adc7-c6c3fd914ec2"
   },
   "outputs": [
    {
     "ename": "ValueError",
     "evalue": "'Normal,Siang,Berawan,Normal,Tidak' is not in list",
     "output_type": "error",
     "traceback": [
      "\u001b[1;31m---------------------------------------------------------------------------\u001b[0m",
      "\u001b[1;31mValueError\u001b[0m                                Traceback (most recent call last)",
      "\u001b[1;32m<ipython-input-34-daac2540a5e9>\u001b[0m in \u001b[0;36m<module>\u001b[1;34m\u001b[0m\n\u001b[0;32m      4\u001b[0m \u001b[0mpopulations\u001b[0m \u001b[1;33m=\u001b[0m \u001b[0mgen_population\u001b[0m\u001b[1;33m(\u001b[0m\u001b[0mchoromosome_count\u001b[0m\u001b[1;33m)\u001b[0m\u001b[1;33m\u001b[0m\u001b[1;33m\u001b[0m\u001b[0m\n\u001b[0;32m      5\u001b[0m \u001b[1;32mfor\u001b[0m \u001b[0mi\u001b[0m \u001b[1;32min\u001b[0m \u001b[0mrange\u001b[0m\u001b[1;33m(\u001b[0m\u001b[0mgen_count\u001b[0m\u001b[1;33m)\u001b[0m\u001b[1;33m:\u001b[0m\u001b[1;33m\u001b[0m\u001b[1;33m\u001b[0m\u001b[0m\n\u001b[1;32m----> 6\u001b[1;33m   \u001b[0mfit_res\u001b[0m \u001b[1;33m=\u001b[0m \u001b[0mfitness\u001b[0m\u001b[1;33m(\u001b[0m\u001b[0mpopulations\u001b[0m\u001b[1;33m)\u001b[0m\u001b[1;33m\u001b[0m\u001b[1;33m\u001b[0m\u001b[0m\n\u001b[0m\u001b[0;32m      7\u001b[0m   \u001b[0mparent\u001b[0m \u001b[1;33m=\u001b[0m \u001b[0mget_parrent\u001b[0m\u001b[1;33m(\u001b[0m\u001b[0mpopulations\u001b[0m\u001b[1;33m,\u001b[0m \u001b[0mfit_res\u001b[0m\u001b[1;33m)\u001b[0m\u001b[1;33m\u001b[0m\u001b[1;33m\u001b[0m\u001b[0m\n\u001b[0;32m      8\u001b[0m   \u001b[0mchild\u001b[0m \u001b[1;33m=\u001b[0m \u001b[0mcrossover\u001b[0m\u001b[1;33m(\u001b[0m\u001b[0mparent\u001b[0m\u001b[1;33m,\u001b[0m \u001b[1;36m0.8\u001b[0m\u001b[1;33m)\u001b[0m\u001b[1;33m\u001b[0m\u001b[1;33m\u001b[0m\u001b[0m\n",
      "\u001b[1;32m<ipython-input-17-bc3aafd0cbf0>\u001b[0m in \u001b[0;36mfitness\u001b[1;34m(populations)\u001b[0m\n\u001b[0;32m      5\u001b[0m     \u001b[0mtrue_predict\u001b[0m \u001b[1;33m=\u001b[0m \u001b[1;36m0\u001b[0m\u001b[1;33m\u001b[0m\u001b[1;33m\u001b[0m\u001b[0m\n\u001b[0;32m      6\u001b[0m     \u001b[1;32mfor\u001b[0m \u001b[0md\u001b[0m \u001b[1;32min\u001b[0m \u001b[0mdata\u001b[0m\u001b[1;33m:\u001b[0m\u001b[1;33m\u001b[0m\u001b[1;33m\u001b[0m\u001b[0m\n\u001b[1;32m----> 7\u001b[1;33m       \u001b[0mhasil\u001b[0m \u001b[1;33m=\u001b[0m \u001b[0mpredict\u001b[0m\u001b[1;33m(\u001b[0m\u001b[0mchromosome\u001b[0m\u001b[1;33m,\u001b[0m \u001b[0md\u001b[0m\u001b[1;33m)\u001b[0m\u001b[1;33m\u001b[0m\u001b[1;33m\u001b[0m\u001b[0m\n\u001b[0m\u001b[0;32m      8\u001b[0m       \u001b[1;32mif\u001b[0m \u001b[0mhasil\u001b[0m \u001b[1;33m==\u001b[0m \u001b[0md\u001b[0m\u001b[1;33m[\u001b[0m\u001b[1;36m4\u001b[0m\u001b[1;33m]\u001b[0m\u001b[1;33m:\u001b[0m\u001b[1;33m\u001b[0m\u001b[1;33m\u001b[0m\u001b[0m\n\u001b[0;32m      9\u001b[0m         \u001b[0mtrue_predict\u001b[0m \u001b[1;33m+=\u001b[0m \u001b[1;36m1\u001b[0m\u001b[1;33m\u001b[0m\u001b[1;33m\u001b[0m\u001b[0m\n",
      "\u001b[1;32m<ipython-input-15-21b7615ff2cc>\u001b[0m in \u001b[0;36mpredict\u001b[1;34m(chromosome, data)\u001b[0m\n\u001b[0;32m      8\u001b[0m     \u001b[0mterbang_enc\u001b[0m \u001b[1;33m=\u001b[0m \u001b[0mrule\u001b[0m\u001b[1;33m[\u001b[0m\u001b[1;36m14\u001b[0m\u001b[1;33m]\u001b[0m\u001b[1;33m\u001b[0m\u001b[1;33m\u001b[0m\u001b[0m\n\u001b[0;32m      9\u001b[0m \u001b[1;33m\u001b[0m\u001b[0m\n\u001b[1;32m---> 10\u001b[1;33m     \u001b[1;32mif\u001b[0m \u001b[0mcheckrule\u001b[0m\u001b[1;33m(\u001b[0m\u001b[0mSUHU\u001b[0m\u001b[1;33m,\u001b[0m \u001b[0msuhu_enc\u001b[0m\u001b[1;33m,\u001b[0m \u001b[0mdata\u001b[0m\u001b[1;33m[\u001b[0m\u001b[1;36m0\u001b[0m\u001b[1;33m]\u001b[0m\u001b[1;33m)\u001b[0m \u001b[1;32mand\u001b[0m \u001b[0mcheckrule\u001b[0m\u001b[1;33m(\u001b[0m\u001b[0mWAKTU\u001b[0m\u001b[1;33m,\u001b[0m \u001b[0mwaktu_enc\u001b[0m\u001b[1;33m,\u001b[0m \u001b[0mdata\u001b[0m\u001b[1;33m[\u001b[0m\u001b[1;36m1\u001b[0m\u001b[1;33m]\u001b[0m\u001b[1;33m)\u001b[0m \u001b[1;32mand\u001b[0m \u001b[0mcheckrule\u001b[0m\u001b[1;33m(\u001b[0m\u001b[0mKONDISI\u001b[0m\u001b[1;33m,\u001b[0m \u001b[0mkond_enc\u001b[0m\u001b[1;33m,\u001b[0m \u001b[0mdata\u001b[0m\u001b[1;33m[\u001b[0m\u001b[1;36m2\u001b[0m\u001b[1;33m]\u001b[0m\u001b[1;33m)\u001b[0m \u001b[1;32mand\u001b[0m \u001b[0mcheckrule\u001b[0m\u001b[1;33m(\u001b[0m\u001b[0mKELEMBAPAN\u001b[0m\u001b[1;33m,\u001b[0m \u001b[0mkel_enc\u001b[0m\u001b[1;33m,\u001b[0m \u001b[0mdata\u001b[0m\u001b[1;33m[\u001b[0m\u001b[1;36m3\u001b[0m\u001b[1;33m]\u001b[0m\u001b[1;33m)\u001b[0m\u001b[1;33m:\u001b[0m\u001b[1;33m\u001b[0m\u001b[1;33m\u001b[0m\u001b[0m\n\u001b[0m\u001b[0;32m     11\u001b[0m       \u001b[1;32mif\u001b[0m \u001b[0mterbang_enc\u001b[0m \u001b[1;33m==\u001b[0m \u001b[1;36m1\u001b[0m\u001b[1;33m:\u001b[0m\u001b[1;33m\u001b[0m\u001b[1;33m\u001b[0m\u001b[0m\n\u001b[0;32m     12\u001b[0m         \u001b[1;32mreturn\u001b[0m \u001b[1;34m'Ya'\u001b[0m\u001b[1;33m\u001b[0m\u001b[1;33m\u001b[0m\u001b[0m\n",
      "\u001b[1;32m<ipython-input-10-99a824e5f6ec>\u001b[0m in \u001b[0;36mcheckrule\u001b[1;34m(kolom, rule, value)\u001b[0m\n\u001b[0;32m      1\u001b[0m \u001b[1;32mdef\u001b[0m \u001b[0mcheckrule\u001b[0m\u001b[1;33m(\u001b[0m\u001b[0mkolom\u001b[0m\u001b[1;33m,\u001b[0m \u001b[0mrule\u001b[0m\u001b[1;33m,\u001b[0m \u001b[0mvalue\u001b[0m\u001b[1;33m)\u001b[0m\u001b[1;33m:\u001b[0m\u001b[1;33m\u001b[0m\u001b[1;33m\u001b[0m\u001b[0m\n\u001b[1;32m----> 2\u001b[1;33m   \u001b[0mi\u001b[0m \u001b[1;33m=\u001b[0m \u001b[0mkolom\u001b[0m\u001b[1;33m.\u001b[0m\u001b[0mindex\u001b[0m\u001b[1;33m(\u001b[0m\u001b[0mvalue\u001b[0m\u001b[1;33m)\u001b[0m\u001b[1;33m\u001b[0m\u001b[1;33m\u001b[0m\u001b[0m\n\u001b[0m\u001b[0;32m      3\u001b[0m   \u001b[1;32mreturn\u001b[0m \u001b[0mrule\u001b[0m\u001b[1;33m[\u001b[0m\u001b[0mi\u001b[0m\u001b[1;33m]\u001b[0m \u001b[1;33m==\u001b[0m \u001b[1;36m1\u001b[0m\u001b[1;33m\u001b[0m\u001b[1;33m\u001b[0m\u001b[0m\n",
      "\u001b[1;31mValueError\u001b[0m: 'Normal,Siang,Berawan,Normal,Tidak' is not in list"
     ]
    }
   ],
   "source": [
    "# GENETIC ALGORITHM\n",
    "choromosome_count = 10\n",
    "gen_count = 1000\n",
    "populations = gen_population(choromosome_count)\n",
    "for i in range(gen_count):\n",
    "  fit_res = fitness(populations)\n",
    "  parent = get_parrent(populations, fit_res)\n",
    "  child = crossover(parent, 0.8)\n",
    "  child = mutation(child, 0.2)\n",
    "  populations = survivor_selecton(populations, fit_res, child)\n",
    "  if i % 100 == 0:\n",
    "    fit = fitness(populations)\n",
    "    sorted_fit = sorted(fit, key=lambda x: x['fit'], reverse=True)\n",
    "    print(\"Akurasi: \", sorted_fit[0]['fit'])"
   ]
  },
  {
   "cell_type": "code",
   "execution_count": 28,
   "metadata": {
    "colab": {},
    "colab_type": "code",
    "id": "UyL41nb-0x4s"
   },
   "outputs": [
    {
     "ename": "ValueError",
     "evalue": "'Normal,Siang,Berawan,Normal,Tidak' is not in list",
     "output_type": "error",
     "traceback": [
      "\u001b[1;31m---------------------------------------------------------------------------\u001b[0m",
      "\u001b[1;31mValueError\u001b[0m                                Traceback (most recent call last)",
      "\u001b[1;32m<ipython-input-28-73c8d20a4f21>\u001b[0m in \u001b[0;36m<module>\u001b[1;34m\u001b[0m\n\u001b[1;32m----> 1\u001b[1;33m \u001b[0mfit\u001b[0m \u001b[1;33m=\u001b[0m \u001b[0mfitness\u001b[0m\u001b[1;33m(\u001b[0m\u001b[0mpopulations\u001b[0m\u001b[1;33m)\u001b[0m\u001b[1;33m\u001b[0m\u001b[1;33m\u001b[0m\u001b[0m\n\u001b[0m\u001b[0;32m      2\u001b[0m \u001b[0msorted_fit\u001b[0m \u001b[1;33m=\u001b[0m \u001b[0msorted\u001b[0m\u001b[1;33m(\u001b[0m\u001b[0mfit\u001b[0m\u001b[1;33m,\u001b[0m \u001b[0mkey\u001b[0m\u001b[1;33m=\u001b[0m\u001b[1;32mlambda\u001b[0m \u001b[0mx\u001b[0m\u001b[1;33m:\u001b[0m \u001b[0mx\u001b[0m\u001b[1;33m[\u001b[0m\u001b[1;34m'fit'\u001b[0m\u001b[1;33m]\u001b[0m\u001b[1;33m,\u001b[0m \u001b[0mreverse\u001b[0m\u001b[1;33m=\u001b[0m\u001b[1;32mTrue\u001b[0m\u001b[1;33m)\u001b[0m\u001b[1;33m\u001b[0m\u001b[1;33m\u001b[0m\u001b[0m\n\u001b[0;32m      3\u001b[0m \u001b[0moptimum\u001b[0m \u001b[1;33m=\u001b[0m \u001b[0msorted_fit\u001b[0m\u001b[1;33m[\u001b[0m\u001b[1;36m0\u001b[0m\u001b[1;33m]\u001b[0m\u001b[1;33m\u001b[0m\u001b[1;33m\u001b[0m\u001b[0m\n\u001b[0;32m      4\u001b[0m \u001b[0moptimum_chromosome\u001b[0m \u001b[1;33m=\u001b[0m \u001b[0mpopulations\u001b[0m\u001b[1;33m[\u001b[0m\u001b[0moptimum\u001b[0m\u001b[1;33m[\u001b[0m\u001b[1;34m'index'\u001b[0m\u001b[1;33m]\u001b[0m\u001b[1;33m]\u001b[0m\u001b[1;33m\u001b[0m\u001b[1;33m\u001b[0m\u001b[0m\n",
      "\u001b[1;32m<ipython-input-17-bc3aafd0cbf0>\u001b[0m in \u001b[0;36mfitness\u001b[1;34m(populations)\u001b[0m\n\u001b[0;32m      5\u001b[0m     \u001b[0mtrue_predict\u001b[0m \u001b[1;33m=\u001b[0m \u001b[1;36m0\u001b[0m\u001b[1;33m\u001b[0m\u001b[1;33m\u001b[0m\u001b[0m\n\u001b[0;32m      6\u001b[0m     \u001b[1;32mfor\u001b[0m \u001b[0md\u001b[0m \u001b[1;32min\u001b[0m \u001b[0mdata\u001b[0m\u001b[1;33m:\u001b[0m\u001b[1;33m\u001b[0m\u001b[1;33m\u001b[0m\u001b[0m\n\u001b[1;32m----> 7\u001b[1;33m       \u001b[0mhasil\u001b[0m \u001b[1;33m=\u001b[0m \u001b[0mpredict\u001b[0m\u001b[1;33m(\u001b[0m\u001b[0mchromosome\u001b[0m\u001b[1;33m,\u001b[0m \u001b[0md\u001b[0m\u001b[1;33m)\u001b[0m\u001b[1;33m\u001b[0m\u001b[1;33m\u001b[0m\u001b[0m\n\u001b[0m\u001b[0;32m      8\u001b[0m       \u001b[1;32mif\u001b[0m \u001b[0mhasil\u001b[0m \u001b[1;33m==\u001b[0m \u001b[0md\u001b[0m\u001b[1;33m[\u001b[0m\u001b[1;36m4\u001b[0m\u001b[1;33m]\u001b[0m\u001b[1;33m:\u001b[0m\u001b[1;33m\u001b[0m\u001b[1;33m\u001b[0m\u001b[0m\n\u001b[0;32m      9\u001b[0m         \u001b[0mtrue_predict\u001b[0m \u001b[1;33m+=\u001b[0m \u001b[1;36m1\u001b[0m\u001b[1;33m\u001b[0m\u001b[1;33m\u001b[0m\u001b[0m\n",
      "\u001b[1;32m<ipython-input-15-21b7615ff2cc>\u001b[0m in \u001b[0;36mpredict\u001b[1;34m(chromosome, data)\u001b[0m\n\u001b[0;32m      8\u001b[0m     \u001b[0mterbang_enc\u001b[0m \u001b[1;33m=\u001b[0m \u001b[0mrule\u001b[0m\u001b[1;33m[\u001b[0m\u001b[1;36m14\u001b[0m\u001b[1;33m]\u001b[0m\u001b[1;33m\u001b[0m\u001b[1;33m\u001b[0m\u001b[0m\n\u001b[0;32m      9\u001b[0m \u001b[1;33m\u001b[0m\u001b[0m\n\u001b[1;32m---> 10\u001b[1;33m     \u001b[1;32mif\u001b[0m \u001b[0mcheckrule\u001b[0m\u001b[1;33m(\u001b[0m\u001b[0mSUHU\u001b[0m\u001b[1;33m,\u001b[0m \u001b[0msuhu_enc\u001b[0m\u001b[1;33m,\u001b[0m \u001b[0mdata\u001b[0m\u001b[1;33m[\u001b[0m\u001b[1;36m0\u001b[0m\u001b[1;33m]\u001b[0m\u001b[1;33m)\u001b[0m \u001b[1;32mand\u001b[0m \u001b[0mcheckrule\u001b[0m\u001b[1;33m(\u001b[0m\u001b[0mWAKTU\u001b[0m\u001b[1;33m,\u001b[0m \u001b[0mwaktu_enc\u001b[0m\u001b[1;33m,\u001b[0m \u001b[0mdata\u001b[0m\u001b[1;33m[\u001b[0m\u001b[1;36m1\u001b[0m\u001b[1;33m]\u001b[0m\u001b[1;33m)\u001b[0m \u001b[1;32mand\u001b[0m \u001b[0mcheckrule\u001b[0m\u001b[1;33m(\u001b[0m\u001b[0mKONDISI\u001b[0m\u001b[1;33m,\u001b[0m \u001b[0mkond_enc\u001b[0m\u001b[1;33m,\u001b[0m \u001b[0mdata\u001b[0m\u001b[1;33m[\u001b[0m\u001b[1;36m2\u001b[0m\u001b[1;33m]\u001b[0m\u001b[1;33m)\u001b[0m \u001b[1;32mand\u001b[0m \u001b[0mcheckrule\u001b[0m\u001b[1;33m(\u001b[0m\u001b[0mKELEMBAPAN\u001b[0m\u001b[1;33m,\u001b[0m \u001b[0mkel_enc\u001b[0m\u001b[1;33m,\u001b[0m \u001b[0mdata\u001b[0m\u001b[1;33m[\u001b[0m\u001b[1;36m3\u001b[0m\u001b[1;33m]\u001b[0m\u001b[1;33m)\u001b[0m\u001b[1;33m:\u001b[0m\u001b[1;33m\u001b[0m\u001b[1;33m\u001b[0m\u001b[0m\n\u001b[0m\u001b[0;32m     11\u001b[0m       \u001b[1;32mif\u001b[0m \u001b[0mterbang_enc\u001b[0m \u001b[1;33m==\u001b[0m \u001b[1;36m1\u001b[0m\u001b[1;33m:\u001b[0m\u001b[1;33m\u001b[0m\u001b[1;33m\u001b[0m\u001b[0m\n\u001b[0;32m     12\u001b[0m         \u001b[1;32mreturn\u001b[0m \u001b[1;34m'Ya'\u001b[0m\u001b[1;33m\u001b[0m\u001b[1;33m\u001b[0m\u001b[0m\n",
      "\u001b[1;32m<ipython-input-10-99a824e5f6ec>\u001b[0m in \u001b[0;36mcheckrule\u001b[1;34m(kolom, rule, value)\u001b[0m\n\u001b[0;32m      1\u001b[0m \u001b[1;32mdef\u001b[0m \u001b[0mcheckrule\u001b[0m\u001b[1;33m(\u001b[0m\u001b[0mkolom\u001b[0m\u001b[1;33m,\u001b[0m \u001b[0mrule\u001b[0m\u001b[1;33m,\u001b[0m \u001b[0mvalue\u001b[0m\u001b[1;33m)\u001b[0m\u001b[1;33m:\u001b[0m\u001b[1;33m\u001b[0m\u001b[1;33m\u001b[0m\u001b[0m\n\u001b[1;32m----> 2\u001b[1;33m   \u001b[0mi\u001b[0m \u001b[1;33m=\u001b[0m \u001b[0mkolom\u001b[0m\u001b[1;33m.\u001b[0m\u001b[0mindex\u001b[0m\u001b[1;33m(\u001b[0m\u001b[0mvalue\u001b[0m\u001b[1;33m)\u001b[0m\u001b[1;33m\u001b[0m\u001b[1;33m\u001b[0m\u001b[0m\n\u001b[0m\u001b[0;32m      3\u001b[0m   \u001b[1;32mreturn\u001b[0m \u001b[0mrule\u001b[0m\u001b[1;33m[\u001b[0m\u001b[0mi\u001b[0m\u001b[1;33m]\u001b[0m \u001b[1;33m==\u001b[0m \u001b[1;36m1\u001b[0m\u001b[1;33m\u001b[0m\u001b[1;33m\u001b[0m\u001b[0m\n",
      "\u001b[1;31mValueError\u001b[0m: 'Normal,Siang,Berawan,Normal,Tidak' is not in list"
     ]
    }
   ],
   "source": [
    "fit = fitness(populations)\n",
    "sorted_fit = sorted(fit, key=lambda x: x['fit'], reverse=True)\n",
    "optimum = sorted_fit[0]\n",
    "optimum_chromosome = populations[optimum['index']]"
   ]
  },
  {
   "cell_type": "code",
   "execution_count": 0,
   "metadata": {
    "colab": {
     "base_uri": "https://localhost:8080/",
     "height": 34
    },
    "colab_type": "code",
    "id": "Hhp296PH1EQB",
    "outputId": "4a62c714-78aa-46ac-a4d5-a4b085260272"
   },
   "outputs": [
    {
     "data": {
      "text/plain": [
       "{'fit': 0.5, 'index': 0}"
      ]
     },
     "execution_count": 189,
     "metadata": {
      "tags": []
     },
     "output_type": "execute_result"
    }
   ],
   "source": [
    "optimum"
   ]
  },
  {
   "cell_type": "code",
   "execution_count": 29,
   "metadata": {
    "colab": {
     "base_uri": "https://localhost:8080/",
     "height": 34
    },
    "colab_type": "code",
    "id": "EC0tFXSH1GRL",
    "outputId": "2a1bccb9-687b-401f-9eb0-c1401153247f"
   },
   "outputs": [
    {
     "ename": "NameError",
     "evalue": "name 'optimum_chromosome' is not defined",
     "output_type": "error",
     "traceback": [
      "\u001b[1;31m---------------------------------------------------------------------------\u001b[0m",
      "\u001b[1;31mNameError\u001b[0m                                 Traceback (most recent call last)",
      "\u001b[1;32m<ipython-input-29-6e3c2b65487f>\u001b[0m in \u001b[0;36m<module>\u001b[1;34m\u001b[0m\n\u001b[1;32m----> 1\u001b[1;33m \u001b[0mprint\u001b[0m\u001b[1;33m(\u001b[0m\u001b[0mlen\u001b[0m\u001b[1;33m(\u001b[0m\u001b[0moptimum_chromosome\u001b[0m\u001b[1;33m)\u001b[0m\u001b[1;33m)\u001b[0m\u001b[1;33m\u001b[0m\u001b[1;33m\u001b[0m\u001b[0m\n\u001b[0m",
      "\u001b[1;31mNameError\u001b[0m: name 'optimum_chromosome' is not defined"
     ]
    }
   ],
   "source": [
    "print(len(optimum_chromosome))"
   ]
  },
  {
   "cell_type": "code",
   "execution_count": 0,
   "metadata": {
    "colab": {},
    "colab_type": "code",
    "id": "QnNKTkiC1HM4"
   },
   "outputs": [],
   "source": [
    "df_test = pd.read_csv(\"Data Uji.csv\", sep=\";\")\n",
    "data_test = df_test.values"
   ]
  },
  {
   "cell_type": "code",
   "execution_count": 53,
   "metadata": {
    "colab": {
     "base_uri": "https://localhost:8080/",
     "height": 303
    },
    "colab_type": "code",
    "id": "A687uJKb1p2L",
    "outputId": "3bdca95c-8aa6-4362-a4c8-0cbe7d71859c"
   },
   "outputs": [
    {
     "ename": "NameError",
     "evalue": "name 'data_test' is not defined",
     "output_type": "error",
     "traceback": [
      "\u001b[1;31m---------------------------------------------------------------------------\u001b[0m",
      "\u001b[1;31mNameError\u001b[0m                                 Traceback (most recent call last)",
      "\u001b[1;32m<ipython-input-53-81b81f13e0df>\u001b[0m in \u001b[0;36m<module>\u001b[1;34m\u001b[0m\n\u001b[1;32m----> 1\u001b[1;33m \u001b[1;32mfor\u001b[0m \u001b[0md\u001b[0m \u001b[1;32min\u001b[0m \u001b[0mdata_test\u001b[0m\u001b[1;33m:\u001b[0m\u001b[1;33m\u001b[0m\u001b[1;33m\u001b[0m\u001b[0m\n\u001b[0m\u001b[0;32m      2\u001b[0m   \u001b[0mhasil\u001b[0m \u001b[1;33m=\u001b[0m \u001b[0mpredict\u001b[0m\u001b[1;33m(\u001b[0m\u001b[0moptimum_chromosome\u001b[0m\u001b[1;33m,\u001b[0m \u001b[0md\u001b[0m\u001b[1;33m)\u001b[0m\u001b[1;33m\u001b[0m\u001b[1;33m\u001b[0m\u001b[0m\n\u001b[0;32m      3\u001b[0m   \u001b[0mprint\u001b[0m\u001b[1;33m(\u001b[0m\u001b[0mhasil\u001b[0m\u001b[1;33m)\u001b[0m\u001b[1;33m\u001b[0m\u001b[1;33m\u001b[0m\u001b[0m\n",
      "\u001b[1;31mNameError\u001b[0m: name 'data_test' is not defined"
     ]
    }
   ],
   "source": [
    "for d in data_test:\n",
    "  hasil = predict(optimum_chromosome, d)\n",
    "  print(hasil)"
   ]
  },
  {
   "cell_type": "code",
   "execution_count": 0,
   "metadata": {
    "colab": {},
    "colab_type": "code",
    "id": "AaOSlkJu16bY"
   },
   "outputs": [],
   "source": []
  }
 ],
 "metadata": {
  "colab": {
   "collapsed_sections": [],
   "name": "Tupro2.ipynb",
   "provenance": []
  },
  "kernelspec": {
   "display_name": "Python 3",
   "language": "python",
   "name": "python3"
  },
  "language_info": {
   "codemirror_mode": {
    "name": "ipython",
    "version": 3
   },
   "file_extension": ".py",
   "mimetype": "text/x-python",
   "name": "python",
   "nbconvert_exporter": "python",
   "pygments_lexer": "ipython3",
   "version": "3.7.3"
  }
 },
 "nbformat": 4,
 "nbformat_minor": 1
}
